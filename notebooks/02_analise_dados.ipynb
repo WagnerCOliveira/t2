{
 "cells": [
  {
   "cell_type": "markdown",
   "metadata": {
    "id": "Ij7yrH1pxI9R"
   },
   "source": [
    "Trabalho 2\n",
    "---\n",
    "## Análise de Dados\n",
    "\n",
    "### Contexto\n",
    "\n",
    "O Conjunto de Dados de Admissões de Pós-Graduação de Berkeley em 1973 representa um\n",
    "marco histórico na análise de admissões em instituições de ensino superior. Ele surgiu no\n",
    "contexto de debates sobre desigualdade de gênero nos processos de seleção para programas\n",
    "de pós-graduação nos Estados Unidos durante os anos 1970, uma época em que movimentos\n",
    "pelos direitos civis e igualdade de gênero estavam em ascensão.\n",
    "Na década de 1970, havia um crescente questionamento sobre práticas discriminatórias em\n",
    "ambientes acadêmicos e profissionais. A Universidade da Califórnia, Berkeley, uma das principais\n",
    "instituições de ensino superior dos EUA, publicou dados relacionados ao processo de admissão\n",
    "em seus programas de pós-graduação para investigar alegações de desigualdade de gênero.\n",
    "\n",
    "### Problematização\n",
    "\n",
    "O Conjunto de Dados de Admissões de Pós-Graduação de Berkeley em 1973 levanta questões\n",
    "centrais sobre a equidade nos processos seletivos em instituições de ensino superior. Os dados,\n",
    "à primeira vista, indicam uma desigualdade de gênero nas admissões, sugerindo que mulheres\n",
    "tinham menor probabilidade de serem aceitas em comparação aos homens. Essa evidência\n",
    "inicial gerou um debate sobre a possibilidade de discriminação institucional contra mulheres no\n",
    "ambiente acadêmico.\n",
    "Atividade\n",
    "Desenvolver uma análise exploratória de dados que identifique padrões e propondo\n",
    "interpretações sobre viés e desigualdade na admissão de pós-graduação da Universidade de\n",
    "Berkeley em 1973.\n",
    "\n",
    "\n",
    "Segue abaixo o escopo o trabalho:"
   ]
  },
  {
   "cell_type": "markdown",
   "metadata": {
    "id": "CujlVvYgxI9X"
   },
   "source": [
    "Análise de dados (7 pontos)\n",
    "---"
   ]
  },
  {
   "cell_type": "markdown",
   "metadata": {
    "id": "jQVhuG2-xI9Y"
   },
   "source": [
    "### 1. Carregar o dataset e verificar suas informações gerais;"
   ]
  },
  {
   "cell_type": "code",
   "execution_count": 1,
   "metadata": {
    "colab": {
     "base_uri": "https://localhost:8080/"
    },
    "executionInfo": {
     "elapsed": 349,
     "status": "ok",
     "timestamp": 1735860633586,
     "user": {
      "displayName": "WAGNER DA COSTA OLIVEIRA",
      "userId": "15827076417170349698"
     },
     "user_tz": 180
    },
    "id": "IgUFdSFlxI9Z",
    "outputId": "7195d4c9-7981-4963-d939-a475673900f4"
   },
   "outputs": [
    {
     "name": "stdout",
     "output_type": "stream",
     "text": [
      "<class 'pandas.core.frame.DataFrame'>\n",
      "RangeIndex: 4839 entries, 0 to 4838\n",
      "Data columns (total 5 columns):\n",
      " #   Column        Non-Null Count  Dtype  \n",
      "---  ------        --------------  -----  \n",
      " 0   YEAR          4839 non-null   int64  \n",
      " 1   DEPARTAMENTO  4839 non-null   object \n",
      " 2   GENERO        4839 non-null   object \n",
      " 3   ADMISSAO      4839 non-null   object \n",
      " 4   CONCORRENCIA  4839 non-null   float64\n",
      "dtypes: float64(1), int64(1), object(3)\n",
      "memory usage: 189.2+ KB\n"
     ]
    }
   ],
   "source": [
    "import pandas as pd\n",
    "import numpy as np\n",
    "import matplotlib.pyplot as plt\n",
    "import os\n",
    "\n",
    "#1.1 Carregar o arquivo csv\n",
    "berkeley_preprocessado = pd.read_csv(\"../data/processed/berkeley_preprocessado.csv\")\n",
    "\n",
    "berkeley_preprocessado.info()"
   ]
  },
  {
   "cell_type": "code",
   "execution_count": 2,
   "metadata": {
    "colab": {
     "base_uri": "https://localhost:8080/",
     "height": 206
    },
    "executionInfo": {
     "elapsed": 592,
     "status": "ok",
     "timestamp": 1735860634465,
     "user": {
      "displayName": "WAGNER DA COSTA OLIVEIRA",
      "userId": "15827076417170349698"
     },
     "user_tz": 180
    },
    "id": "DIx8SSfzxI9b",
    "outputId": "da02677e-15f3-42e3-e33e-eedbc5a2cbe0"
   },
   "outputs": [
    {
     "data": {
      "text/html": [
       "<div>\n",
       "<style scoped>\n",
       "    .dataframe tbody tr th:only-of-type {\n",
       "        vertical-align: middle;\n",
       "    }\n",
       "\n",
       "    .dataframe tbody tr th {\n",
       "        vertical-align: top;\n",
       "    }\n",
       "\n",
       "    .dataframe thead th {\n",
       "        text-align: right;\n",
       "    }\n",
       "</style>\n",
       "<table border=\"1\" class=\"dataframe\">\n",
       "  <thead>\n",
       "    <tr style=\"text-align: right;\">\n",
       "      <th></th>\n",
       "      <th>YEAR</th>\n",
       "      <th>DEPARTAMENTO</th>\n",
       "      <th>GENERO</th>\n",
       "      <th>ADMISSAO</th>\n",
       "      <th>CONCORRENCIA</th>\n",
       "    </tr>\n",
       "  </thead>\n",
       "  <tbody>\n",
       "    <tr>\n",
       "      <th>0</th>\n",
       "      <td>1973</td>\n",
       "      <td>C</td>\n",
       "      <td>F</td>\n",
       "      <td>Rejected</td>\n",
       "      <td>2.86</td>\n",
       "    </tr>\n",
       "    <tr>\n",
       "      <th>1</th>\n",
       "      <td>1973</td>\n",
       "      <td>B</td>\n",
       "      <td>M</td>\n",
       "      <td>Accepted</td>\n",
       "      <td>1.58</td>\n",
       "    </tr>\n",
       "    <tr>\n",
       "      <th>2</th>\n",
       "      <td>1973</td>\n",
       "      <td>F</td>\n",
       "      <td>F</td>\n",
       "      <td>Accepted</td>\n",
       "      <td>15.19</td>\n",
       "    </tr>\n",
       "    <tr>\n",
       "      <th>3</th>\n",
       "      <td>1973</td>\n",
       "      <td>A</td>\n",
       "      <td>M</td>\n",
       "      <td>Accepted</td>\n",
       "      <td>1.36</td>\n",
       "    </tr>\n",
       "    <tr>\n",
       "      <th>4</th>\n",
       "      <td>1973</td>\n",
       "      <td>B</td>\n",
       "      <td>M</td>\n",
       "      <td>Accepted</td>\n",
       "      <td>1.58</td>\n",
       "    </tr>\n",
       "  </tbody>\n",
       "</table>\n",
       "</div>"
      ],
      "text/plain": [
       "   YEAR DEPARTAMENTO GENERO  ADMISSAO  CONCORRENCIA\n",
       "0  1973            C      F  Rejected          2.86\n",
       "1  1973            B      M  Accepted          1.58\n",
       "2  1973            F      F  Accepted         15.19\n",
       "3  1973            A      M  Accepted          1.36\n",
       "4  1973            B      M  Accepted          1.58"
      ]
     },
     "execution_count": 2,
     "metadata": {},
     "output_type": "execute_result"
    }
   ],
   "source": [
    "berkeley_preprocessado.head()"
   ]
  },
  {
   "cell_type": "markdown",
   "metadata": {
    "id": "LAa-RdxixI9d"
   },
   "source": [
    "### 2. Examinar as estatísticas descritivas das variáveis numéricas, verificando médias, medianas, desvios padrão, mínimos e máximos."
   ]
  },
  {
   "cell_type": "code",
   "execution_count": 3,
   "metadata": {
    "colab": {
     "base_uri": "https://localhost:8080/"
    },
    "executionInfo": {
     "elapsed": 15,
     "status": "ok",
     "timestamp": 1735860634465,
     "user": {
      "displayName": "WAGNER DA COSTA OLIVEIRA",
      "userId": "15827076417170349698"
     },
     "user_tz": 180
    },
    "id": "OYvcNVmAxI9d",
    "outputId": "3a722dcd-76aa-445c-fb48-2cdb7b159dab"
   },
   "outputs": [
    {
     "name": "stdout",
     "output_type": "stream",
     "text": [
      "count    4839.000000\n",
      "mean        4.285381\n",
      "std         4.618648\n",
      "min         1.360000\n",
      "25%         1.360000\n",
      "50%         2.860000\n",
      "75%         3.970000\n",
      "max        15.190000\n",
      "Name: CONCORRENCIA, dtype: float64\n"
     ]
    }
   ],
   "source": [
    "estatisticas_descritivas = berkeley_preprocessado['CONCORRENCIA'].describe()\n",
    "print(estatisticas_descritivas)"
   ]
  },
  {
   "cell_type": "markdown",
   "metadata": {
    "id": "sr5bAGGbxI9e"
   },
   "source": [
    "### 3. Analisar a distribuição de frequências das variáveis categóricas."
   ]
  },
  {
   "cell_type": "code",
   "execution_count": 4,
   "metadata": {
    "colab": {
     "base_uri": "https://localhost:8080/",
     "height": 202
    },
    "executionInfo": {
     "elapsed": 384,
     "status": "ok",
     "timestamp": 1735861058634,
     "user": {
      "displayName": "WAGNER DA COSTA OLIVEIRA",
      "userId": "15827076417170349698"
     },
     "user_tz": 180
    },
    "id": "_6eEt2lfxI9e",
    "outputId": "e9c6c240-cb67-4a17-c0f0-6d59e6274ee5"
   },
   "outputs": [
    {
     "name": "stdout",
     "output_type": "stream",
     "text": [
      "count    24.16\n",
      "dtype: float64\n"
     ]
    },
    {
     "name": "stderr",
     "output_type": "stream",
     "text": [
      "/tmp/ipykernel_2855/352745949.py:6: FutureWarning: Series.__getitem__ treating keys as positions is deprecated. In a future version, integer keys will always be treated as labels (consistent with DataFrame behavior). To access a value by position, use `ser.iloc[pos]`\n",
      "  diferenca_real = frequencia_genero['count'][0] - frequencia_genero['count'][1]\n"
     ]
    },
    {
     "data": {
      "text/html": [
       "<div>\n",
       "<style scoped>\n",
       "    .dataframe tbody tr th:only-of-type {\n",
       "        vertical-align: middle;\n",
       "    }\n",
       "\n",
       "    .dataframe tbody tr th {\n",
       "        vertical-align: top;\n",
       "    }\n",
       "\n",
       "    .dataframe thead th {\n",
       "        text-align: right;\n",
       "    }\n",
       "</style>\n",
       "<table border=\"1\" class=\"dataframe\">\n",
       "  <thead>\n",
       "    <tr style=\"text-align: right;\">\n",
       "      <th></th>\n",
       "      <th>GENERO</th>\n",
       "      <th>count</th>\n",
       "      <th>DISTRIBUICAO</th>\n",
       "    </tr>\n",
       "  </thead>\n",
       "  <tbody>\n",
       "    <tr>\n",
       "      <th>0</th>\n",
       "      <td>M</td>\n",
       "      <td>3004</td>\n",
       "      <td>62.08</td>\n",
       "    </tr>\n",
       "    <tr>\n",
       "      <th>1</th>\n",
       "      <td>F</td>\n",
       "      <td>1835</td>\n",
       "      <td>37.92</td>\n",
       "    </tr>\n",
       "  </tbody>\n",
       "</table>\n",
       "</div>"
      ],
      "text/plain": [
       "  GENERO  count  DISTRIBUICAO\n",
       "0      M   3004         62.08\n",
       "1      F   1835         37.92"
      ]
     },
     "execution_count": 4,
     "metadata": {},
     "output_type": "execute_result"
    }
   ],
   "source": [
    "frequencia_genero = pd.DataFrame(\n",
    "    berkeley_preprocessado['GENERO'].value_counts()\n",
    ")\n",
    "\n",
    "total_genero = frequencia_genero.sum()\n",
    "diferenca_real = frequencia_genero['count'][0] - frequencia_genero['count'][1]\n",
    "\n",
    "print((diferenca_real / total_genero * 100).round(2))\n",
    "\n",
    "frequencia_genero['DISTRIBUICAO'] = (\n",
    "    frequencia_genero / total_genero * 100\n",
    ").round(2)\n",
    "\n",
    "frequencia_genero.reset_index()"
   ]
  },
  {
   "cell_type": "code",
   "execution_count": 5,
   "metadata": {
    "colab": {
     "base_uri": "https://localhost:8080/",
     "height": 525
    },
    "executionInfo": {
     "elapsed": 338,
     "status": "ok",
     "timestamp": 1735861087670,
     "user": {
      "displayName": "WAGNER DA COSTA OLIVEIRA",
      "userId": "15827076417170349698"
     },
     "user_tz": 180
    },
    "id": "jn_UN1uHhim_",
    "outputId": "f2bbb1cc-bbb3-465e-b6c0-11f6b2d0cfb5"
   },
   "outputs": [
    {
     "data": {
      "text/plain": [
       "Text(0, 0.5, 'Distribuição (%)')"
      ]
     },
     "execution_count": 5,
     "metadata": {},
     "output_type": "execute_result"
    },
    {
     "data": {
      "image/png": "[encoded data removed]",
      "text/plain": [
       "<Figure size 640x480 with 1 Axes>"
      ]
     },
     "metadata": {},
     "output_type": "display_data"
    }
   ],
   "source": [
    "fig, ax = plt.subplots(layout='constrained')\n",
    "\n",
    "frequencia_genero['DISTRIBUICAO'].plot(kind='pie', rot=True, ax=ax, autopct='%1.1f%%')\n",
    "ax.set_ylabel(\"Distribuição (%)\")"
   ]
  },
  {
   "cell_type": "markdown",
   "metadata": {
    "id": "vkyJo_dOxI9e"
   },
   "source": [
    "### 4. Verificar a representatividade de homens e mulheres nas aplicações e admissões por departamento."
   ]
  },
  {
   "cell_type": "code",
   "execution_count": 6,
   "metadata": {
    "colab": {
     "base_uri": "https://localhost:8080/",
     "height": 457
    },
    "executionInfo": {
     "elapsed": 19,
     "status": "ok",
     "timestamp": 1735860635008,
     "user": {
      "displayName": "WAGNER DA COSTA OLIVEIRA",
      "userId": "15827076417170349698"
     },
     "user_tz": 180
    },
    "id": "t1d1jGNyxI9f",
    "outputId": "9dd02a3d-4962-4cc0-bcd2-a63df5787664"
   },
   "outputs": [
    {
     "data": {
      "text/html": [
       "<div>\n",
       "<style scoped>\n",
       "    .dataframe tbody tr th:only-of-type {\n",
       "        vertical-align: middle;\n",
       "    }\n",
       "\n",
       "    .dataframe tbody tr th {\n",
       "        vertical-align: top;\n",
       "    }\n",
       "\n",
       "    .dataframe thead th {\n",
       "        text-align: right;\n",
       "    }\n",
       "</style>\n",
       "<table border=\"1\" class=\"dataframe\">\n",
       "  <thead>\n",
       "    <tr style=\"text-align: right;\">\n",
       "      <th></th>\n",
       "      <th>ADMISSAO</th>\n",
       "      <th>ACCEPTED</th>\n",
       "      <th>REJECTED</th>\n",
       "      <th>ACEITACAO</th>\n",
       "    </tr>\n",
       "    <tr>\n",
       "      <th>DEPARTAMENTO</th>\n",
       "      <th>GENERO</th>\n",
       "      <th></th>\n",
       "      <th></th>\n",
       "      <th></th>\n",
       "    </tr>\n",
       "  </thead>\n",
       "  <tbody>\n",
       "    <tr>\n",
       "      <th rowspan=\"2\" valign=\"top\">A</th>\n",
       "      <th>F</th>\n",
       "      <td>89</td>\n",
       "      <td>19</td>\n",
       "      <td>82.41</td>\n",
       "    </tr>\n",
       "    <tr>\n",
       "      <th>M</th>\n",
       "      <td>825</td>\n",
       "      <td>313</td>\n",
       "      <td>72.50</td>\n",
       "    </tr>\n",
       "    <tr>\n",
       "      <th rowspan=\"2\" valign=\"top\">B</th>\n",
       "      <th>F</th>\n",
       "      <td>17</td>\n",
       "      <td>8</td>\n",
       "      <td>68.00</td>\n",
       "    </tr>\n",
       "    <tr>\n",
       "      <th>M</th>\n",
       "      <td>353</td>\n",
       "      <td>207</td>\n",
       "      <td>63.04</td>\n",
       "    </tr>\n",
       "    <tr>\n",
       "      <th rowspan=\"2\" valign=\"top\">C</th>\n",
       "      <th>F</th>\n",
       "      <td>201</td>\n",
       "      <td>392</td>\n",
       "      <td>33.90</td>\n",
       "    </tr>\n",
       "    <tr>\n",
       "      <th>M</th>\n",
       "      <td>120</td>\n",
       "      <td>205</td>\n",
       "      <td>36.92</td>\n",
       "    </tr>\n",
       "    <tr>\n",
       "      <th rowspan=\"2\" valign=\"top\">D</th>\n",
       "      <th>F</th>\n",
       "      <td>131</td>\n",
       "      <td>244</td>\n",
       "      <td>34.93</td>\n",
       "    </tr>\n",
       "    <tr>\n",
       "      <th>M</th>\n",
       "      <td>138</td>\n",
       "      <td>279</td>\n",
       "      <td>33.09</td>\n",
       "    </tr>\n",
       "    <tr>\n",
       "      <th rowspan=\"2\" valign=\"top\">E</th>\n",
       "      <th>F</th>\n",
       "      <td>94</td>\n",
       "      <td>299</td>\n",
       "      <td>23.92</td>\n",
       "    </tr>\n",
       "    <tr>\n",
       "      <th>M</th>\n",
       "      <td>53</td>\n",
       "      <td>138</td>\n",
       "      <td>27.75</td>\n",
       "    </tr>\n",
       "    <tr>\n",
       "      <th rowspan=\"2\" valign=\"top\">F</th>\n",
       "      <th>F</th>\n",
       "      <td>25</td>\n",
       "      <td>316</td>\n",
       "      <td>7.33</td>\n",
       "    </tr>\n",
       "    <tr>\n",
       "      <th>M</th>\n",
       "      <td>22</td>\n",
       "      <td>351</td>\n",
       "      <td>5.90</td>\n",
       "    </tr>\n",
       "  </tbody>\n",
       "</table>\n",
       "</div>"
      ],
      "text/plain": [
       "ADMISSAO             ACCEPTED  REJECTED  ACEITACAO\n",
       "DEPARTAMENTO GENERO                               \n",
       "A            F             89        19      82.41\n",
       "             M            825       313      72.50\n",
       "B            F             17         8      68.00\n",
       "             M            353       207      63.04\n",
       "C            F            201       392      33.90\n",
       "             M            120       205      36.92\n",
       "D            F            131       244      34.93\n",
       "             M            138       279      33.09\n",
       "E            F             94       299      23.92\n",
       "             M             53       138      27.75\n",
       "F            F             25       316       7.33\n",
       "             M             22       351       5.90"
      ]
     },
     "execution_count": 6,
     "metadata": {},
     "output_type": "execute_result"
    }
   ],
   "source": [
    "df_aceitacao = pd.DataFrame(\n",
    "    berkeley_preprocessado.groupby(['DEPARTAMENTO', 'GENERO', 'ADMISSAO'])\n",
    "    .size()\n",
    "    .unstack(fill_value=0)\n",
    ")\n",
    "\n",
    "# Calcular a aceitação\n",
    "df_aceitacao['ACEITACAO'] = (\n",
    "    df_aceitacao['Accepted'] / (df_aceitacao['Accepted'] + df_aceitacao['Rejected']) * 100\n",
    ").round(2)\n",
    "\n",
    "df_aceitacao.columns = df_aceitacao.columns.str.upper()\n",
    "\n",
    "df_aceitacao\n"
   ]
  },
  {
   "cell_type": "code",
   "execution_count": 7,
   "metadata": {
    "colab": {
     "base_uri": "https://localhost:8080/",
     "height": 300
    },
    "executionInfo": {
     "elapsed": 17,
     "status": "ok",
     "timestamp": 1735860635008,
     "user": {
      "displayName": "WAGNER DA COSTA OLIVEIRA",
      "userId": "15827076417170349698"
     },
     "user_tz": 180
    },
    "id": "L_cQDrs9xI9f",
    "outputId": "caa31b56-12d7-41e3-8e22-1584d8bb33f2"
   },
   "outputs": [
    {
     "data": {
      "text/html": [
       "<div>\n",
       "<style scoped>\n",
       "    .dataframe tbody tr th:only-of-type {\n",
       "        vertical-align: middle;\n",
       "    }\n",
       "\n",
       "    .dataframe tbody tr th {\n",
       "        vertical-align: top;\n",
       "    }\n",
       "\n",
       "    .dataframe thead tr th {\n",
       "        text-align: left;\n",
       "    }\n",
       "\n",
       "    .dataframe thead tr:last-of-type th {\n",
       "        text-align: right;\n",
       "    }\n",
       "</style>\n",
       "<table border=\"1\" class=\"dataframe\">\n",
       "  <thead>\n",
       "    <tr>\n",
       "      <th>ADMISSAO</th>\n",
       "      <th colspan=\"2\" halign=\"left\">ACCEPTED</th>\n",
       "      <th colspan=\"2\" halign=\"left\">REJECTED</th>\n",
       "      <th colspan=\"2\" halign=\"left\">ACEITACAO</th>\n",
       "    </tr>\n",
       "    <tr>\n",
       "      <th>GENERO</th>\n",
       "      <th>F</th>\n",
       "      <th>M</th>\n",
       "      <th>F</th>\n",
       "      <th>M</th>\n",
       "      <th>F</th>\n",
       "      <th>M</th>\n",
       "    </tr>\n",
       "    <tr>\n",
       "      <th>DEPARTAMENTO</th>\n",
       "      <th></th>\n",
       "      <th></th>\n",
       "      <th></th>\n",
       "      <th></th>\n",
       "      <th></th>\n",
       "      <th></th>\n",
       "    </tr>\n",
       "  </thead>\n",
       "  <tbody>\n",
       "    <tr>\n",
       "      <th>A</th>\n",
       "      <td>89</td>\n",
       "      <td>825</td>\n",
       "      <td>19</td>\n",
       "      <td>313</td>\n",
       "      <td>82.41</td>\n",
       "      <td>72.50</td>\n",
       "    </tr>\n",
       "    <tr>\n",
       "      <th>B</th>\n",
       "      <td>17</td>\n",
       "      <td>353</td>\n",
       "      <td>8</td>\n",
       "      <td>207</td>\n",
       "      <td>68.00</td>\n",
       "      <td>63.04</td>\n",
       "    </tr>\n",
       "    <tr>\n",
       "      <th>C</th>\n",
       "      <td>201</td>\n",
       "      <td>120</td>\n",
       "      <td>392</td>\n",
       "      <td>205</td>\n",
       "      <td>33.90</td>\n",
       "      <td>36.92</td>\n",
       "    </tr>\n",
       "    <tr>\n",
       "      <th>D</th>\n",
       "      <td>131</td>\n",
       "      <td>138</td>\n",
       "      <td>244</td>\n",
       "      <td>279</td>\n",
       "      <td>34.93</td>\n",
       "      <td>33.09</td>\n",
       "    </tr>\n",
       "    <tr>\n",
       "      <th>E</th>\n",
       "      <td>94</td>\n",
       "      <td>53</td>\n",
       "      <td>299</td>\n",
       "      <td>138</td>\n",
       "      <td>23.92</td>\n",
       "      <td>27.75</td>\n",
       "    </tr>\n",
       "    <tr>\n",
       "      <th>F</th>\n",
       "      <td>25</td>\n",
       "      <td>22</td>\n",
       "      <td>316</td>\n",
       "      <td>351</td>\n",
       "      <td>7.33</td>\n",
       "      <td>5.90</td>\n",
       "    </tr>\n",
       "  </tbody>\n",
       "</table>\n",
       "</div>"
      ],
      "text/plain": [
       "ADMISSAO     ACCEPTED      REJECTED      ACEITACAO       \n",
       "GENERO              F    M        F    M         F      M\n",
       "DEPARTAMENTO                                             \n",
       "A                  89  825       19  313     82.41  72.50\n",
       "B                  17  353        8  207     68.00  63.04\n",
       "C                 201  120      392  205     33.90  36.92\n",
       "D                 131  138      244  279     34.93  33.09\n",
       "E                  94   53      299  138     23.92  27.75\n",
       "F                  25   22      316  351      7.33   5.90"
      ]
     },
     "execution_count": 7,
     "metadata": {},
     "output_type": "execute_result"
    }
   ],
   "source": [
    "df_aceitacao = df_aceitacao.unstack()\n",
    "df_aceitacao"
   ]
  },
  {
   "cell_type": "code",
   "execution_count": 8,
   "metadata": {
    "colab": {
     "base_uri": "https://localhost:8080/",
     "height": 525
    },
    "executionInfo": {
     "elapsed": 553,
     "status": "ok",
     "timestamp": 1735860635548,
     "user": {
      "displayName": "WAGNER DA COSTA OLIVEIRA",
      "userId": "15827076417170349698"
     },
     "user_tz": 180
    },
    "id": "8yl9aKk_xI9f",
    "outputId": "cf3c19f9-9f85-407d-dbbd-b916cfe6bd2d"
   },
   "outputs": [
    {
     "data": {
      "text/plain": [
       "Text(0, 0.5, 'Aceitação (%)')"
      ]
     },
     "execution_count": 8,
     "metadata": {},
     "output_type": "execute_result"
    },
    {
     "data": {
      "image/png": "[encoded data removed]",
      "text/plain": [
       "<Figure size 640x480 with 1 Axes>"
      ]
     },
     "metadata": {},
     "output_type": "display_data"
    }
   ],
   "source": [
    "fig, ax = plt.subplots(layout='constrained')\n",
    "\n",
    "df_aceitacao['ACEITACAO'].plot(kind='bar', rot=True, ax=ax)\n",
    "ax.set_ylabel(\"Aceitação (%)\")"
   ]
  },
  {
   "cell_type": "markdown",
   "metadata": {
    "id": "yyU5bdIyxI9g"
   },
   "source": [
    "### 5. Comparar o número total de candidatos (admitidos e rejeitados) por gênero."
   ]
  },
  {
   "cell_type": "code",
   "execution_count": 9,
   "metadata": {
    "colab": {
     "base_uri": "https://localhost:8080/",
     "height": 143
    },
    "executionInfo": {
     "elapsed": 23,
     "status": "ok",
     "timestamp": 1735860635549,
     "user": {
      "displayName": "WAGNER DA COSTA OLIVEIRA",
      "userId": "15827076417170349698"
     },
     "user_tz": 180
    },
    "id": "66NYObJ3xI9g",
    "outputId": "fad31c12-32ad-4895-dd21-8851be3d409a"
   },
   "outputs": [
    {
     "data": {
      "text/html": [
       "<div>\n",
       "<style scoped>\n",
       "    .dataframe tbody tr th:only-of-type {\n",
       "        vertical-align: middle;\n",
       "    }\n",
       "\n",
       "    .dataframe tbody tr th {\n",
       "        vertical-align: top;\n",
       "    }\n",
       "\n",
       "    .dataframe thead th {\n",
       "        text-align: right;\n",
       "    }\n",
       "</style>\n",
       "<table border=\"1\" class=\"dataframe\">\n",
       "  <thead>\n",
       "    <tr style=\"text-align: right;\">\n",
       "      <th>ADMISSAO</th>\n",
       "      <th>ACCEPTED</th>\n",
       "      <th>REJECTED</th>\n",
       "      <th>PROPORCAO</th>\n",
       "    </tr>\n",
       "    <tr>\n",
       "      <th>GENERO</th>\n",
       "      <th></th>\n",
       "      <th></th>\n",
       "      <th></th>\n",
       "    </tr>\n",
       "  </thead>\n",
       "  <tbody>\n",
       "    <tr>\n",
       "      <th>F</th>\n",
       "      <td>557</td>\n",
       "      <td>1278</td>\n",
       "      <td>30.35</td>\n",
       "    </tr>\n",
       "    <tr>\n",
       "      <th>M</th>\n",
       "      <td>1511</td>\n",
       "      <td>1493</td>\n",
       "      <td>50.30</td>\n",
       "    </tr>\n",
       "  </tbody>\n",
       "</table>\n",
       "</div>"
      ],
      "text/plain": [
       "ADMISSAO  ACCEPTED  REJECTED  PROPORCAO\n",
       "GENERO                                 \n",
       "F              557      1278      30.35\n",
       "M             1511      1493      50.30"
      ]
     },
     "execution_count": 9,
     "metadata": {},
     "output_type": "execute_result"
    }
   ],
   "source": [
    "df_total_adm_rej_por_genero = (\n",
    "    berkeley_preprocessado.groupby(['GENERO', 'ADMISSAO'])\n",
    "    .size()\n",
    "    .unstack()\n",
    ")\n",
    "\n",
    "df_total_adm_rej_por_genero['PROPORCAO'] = (\n",
    "    df_total_adm_rej_por_genero['Accepted'] / (df_total_adm_rej_por_genero['Accepted'] + df_total_adm_rej_por_genero['Rejected']) * 100\n",
    ").round(2)\n",
    "\n",
    "df_total_adm_rej_por_genero.columns = df_total_adm_rej_por_genero.columns.str.upper()\n",
    "\n",
    "df_total_adm_rej_por_genero"
   ]
  },
  {
   "cell_type": "code",
   "execution_count": 10,
   "metadata": {
    "colab": {
     "base_uri": "https://localhost:8080/",
     "height": 525
    },
    "executionInfo": {
     "elapsed": 463,
     "status": "ok",
     "timestamp": 1735860635994,
     "user": {
      "displayName": "WAGNER DA COSTA OLIVEIRA",
      "userId": "15827076417170349698"
     },
     "user_tz": 180
    },
    "id": "ljWBdowjxI9g",
    "outputId": "2324917a-d115-452a-8a7d-524968998e50"
   },
   "outputs": [
    {
     "data": {
      "text/plain": [
       "Text(0, 0.5, 'Total Candidatos x Genero (%)')"
      ]
     },
     "execution_count": 10,
     "metadata": {},
     "output_type": "execute_result"
    },
    {
     "data": {
      "image/png": "[encoded data removed]",
      "text/plain": [
       "<Figure size 640x480 with 1 Axes>"
      ]
     },
     "metadata": {},
     "output_type": "display_data"
    }
   ],
   "source": [
    "fig, ax = plt.subplots(layout='constrained')\n",
    "\n",
    "df_total_adm_rej_por_genero['PROPORCAO'].plot(kind='pie', rot=True, ax=ax, autopct='%1.1f%%')\n",
    "ax.set_ylabel(\"Total Candidatos x Genero (%)\")"
   ]
  },
  {
   "cell_type": "markdown",
   "metadata": {
    "id": "YG9osyRtxI9h"
   },
   "source": [
    "### 6. Comparar as taxas de admissão por departamento e gênero."
   ]
  },
  {
   "cell_type": "code",
   "execution_count": 11,
   "metadata": {
    "colab": {
     "base_uri": "https://localhost:8080/",
     "height": 300
    },
    "executionInfo": {
     "elapsed": 14,
     "status": "ok",
     "timestamp": 1735860635995,
     "user": {
      "displayName": "WAGNER DA COSTA OLIVEIRA",
      "userId": "15827076417170349698"
     },
     "user_tz": 180
    },
    "id": "82l5AzJ3xI9h",
    "outputId": "e86637d5-f469-46a0-b975-0ebb162517ba"
   },
   "outputs": [
    {
     "data": {
      "text/html": [
       "<div>\n",
       "<style scoped>\n",
       "    .dataframe tbody tr th:only-of-type {\n",
       "        vertical-align: middle;\n",
       "    }\n",
       "\n",
       "    .dataframe tbody tr th {\n",
       "        vertical-align: top;\n",
       "    }\n",
       "\n",
       "    .dataframe thead tr th {\n",
       "        text-align: left;\n",
       "    }\n",
       "\n",
       "    .dataframe thead tr:last-of-type th {\n",
       "        text-align: right;\n",
       "    }\n",
       "</style>\n",
       "<table border=\"1\" class=\"dataframe\">\n",
       "  <thead>\n",
       "    <tr>\n",
       "      <th>GENERO</th>\n",
       "      <th colspan=\"2\" halign=\"left\">F</th>\n",
       "      <th colspan=\"2\" halign=\"left\">M</th>\n",
       "      <th colspan=\"2\" halign=\"left\">PROPORCAO_F</th>\n",
       "      <th colspan=\"2\" halign=\"left\">PROPORCAO_M</th>\n",
       "    </tr>\n",
       "    <tr>\n",
       "      <th>ADMISSAO</th>\n",
       "      <th>Accepted</th>\n",
       "      <th>Rejected</th>\n",
       "      <th>Accepted</th>\n",
       "      <th>Rejected</th>\n",
       "      <th>Accepted</th>\n",
       "      <th>Rejected</th>\n",
       "      <th>Accepted</th>\n",
       "      <th>Rejected</th>\n",
       "    </tr>\n",
       "    <tr>\n",
       "      <th>DEPARTAMENTO</th>\n",
       "      <th></th>\n",
       "      <th></th>\n",
       "      <th></th>\n",
       "      <th></th>\n",
       "      <th></th>\n",
       "      <th></th>\n",
       "      <th></th>\n",
       "      <th></th>\n",
       "    </tr>\n",
       "  </thead>\n",
       "  <tbody>\n",
       "    <tr>\n",
       "      <th>A</th>\n",
       "      <td>89</td>\n",
       "      <td>19</td>\n",
       "      <td>825</td>\n",
       "      <td>313</td>\n",
       "      <td>9.74</td>\n",
       "      <td>5.72</td>\n",
       "      <td>90.26</td>\n",
       "      <td>94.28</td>\n",
       "    </tr>\n",
       "    <tr>\n",
       "      <th>B</th>\n",
       "      <td>17</td>\n",
       "      <td>8</td>\n",
       "      <td>353</td>\n",
       "      <td>207</td>\n",
       "      <td>4.59</td>\n",
       "      <td>3.72</td>\n",
       "      <td>95.41</td>\n",
       "      <td>96.28</td>\n",
       "    </tr>\n",
       "    <tr>\n",
       "      <th>C</th>\n",
       "      <td>201</td>\n",
       "      <td>392</td>\n",
       "      <td>120</td>\n",
       "      <td>205</td>\n",
       "      <td>62.62</td>\n",
       "      <td>65.66</td>\n",
       "      <td>37.38</td>\n",
       "      <td>34.34</td>\n",
       "    </tr>\n",
       "    <tr>\n",
       "      <th>D</th>\n",
       "      <td>131</td>\n",
       "      <td>244</td>\n",
       "      <td>138</td>\n",
       "      <td>279</td>\n",
       "      <td>48.70</td>\n",
       "      <td>46.65</td>\n",
       "      <td>51.30</td>\n",
       "      <td>53.35</td>\n",
       "    </tr>\n",
       "    <tr>\n",
       "      <th>E</th>\n",
       "      <td>94</td>\n",
       "      <td>299</td>\n",
       "      <td>53</td>\n",
       "      <td>138</td>\n",
       "      <td>63.95</td>\n",
       "      <td>68.42</td>\n",
       "      <td>36.05</td>\n",
       "      <td>31.58</td>\n",
       "    </tr>\n",
       "    <tr>\n",
       "      <th>F</th>\n",
       "      <td>25</td>\n",
       "      <td>316</td>\n",
       "      <td>22</td>\n",
       "      <td>351</td>\n",
       "      <td>53.19</td>\n",
       "      <td>47.38</td>\n",
       "      <td>46.81</td>\n",
       "      <td>52.62</td>\n",
       "    </tr>\n",
       "  </tbody>\n",
       "</table>\n",
       "</div>"
      ],
      "text/plain": [
       "GENERO              F                 M          PROPORCAO_F           \\\n",
       "ADMISSAO     Accepted Rejected Accepted Rejected    Accepted Rejected   \n",
       "DEPARTAMENTO                                                            \n",
       "A                  89       19      825      313        9.74     5.72   \n",
       "B                  17        8      353      207        4.59     3.72   \n",
       "C                 201      392      120      205       62.62    65.66   \n",
       "D                 131      244      138      279       48.70    46.65   \n",
       "E                  94      299       53      138       63.95    68.42   \n",
       "F                  25      316       22      351       53.19    47.38   \n",
       "\n",
       "GENERO       PROPORCAO_M           \n",
       "ADMISSAO        Accepted Rejected  \n",
       "DEPARTAMENTO                       \n",
       "A                  90.26    94.28  \n",
       "B                  95.41    96.28  \n",
       "C                  37.38    34.34  \n",
       "D                  51.30    53.35  \n",
       "E                  36.05    31.58  \n",
       "F                  46.81    52.62  "
      ]
     },
     "execution_count": 11,
     "metadata": {},
     "output_type": "execute_result"
    }
   ],
   "source": [
    "df_admissao_depart_genero = (\n",
    "    berkeley_preprocessado.groupby(['ADMISSAO', 'DEPARTAMENTO', 'GENERO'])\n",
    "    .size()\n",
    "    .unstack(fill_value=0)\n",
    ")\n",
    "\n",
    "df_admissao_depart_genero['PROPORCAO_F'] = (\n",
    "    df_admissao_depart_genero['F'] / (df_admissao_depart_genero['F'] + df_admissao_depart_genero['M']) * 100\n",
    ").round(2)\n",
    "\n",
    "df_admissao_depart_genero['PROPORCAO_M'] = (\n",
    "    df_admissao_depart_genero['M'] / (df_admissao_depart_genero['M'] + df_admissao_depart_genero['F']) * 100\n",
    ").round(2)\n",
    "\n",
    "df_admissao_depart_genero = df_admissao_depart_genero.unstack(level=0)\n",
    "df_admissao_depart_genero"
   ]
  },
  {
   "cell_type": "code",
   "execution_count": 12,
   "metadata": {
    "colab": {
     "base_uri": "https://localhost:8080/",
     "height": 545
    },
    "executionInfo": {
     "elapsed": 1105,
     "status": "ok",
     "timestamp": 1735860637088,
     "user": {
      "displayName": "WAGNER DA COSTA OLIVEIRA",
      "userId": "15827076417170349698"
     },
     "user_tz": 180
    },
    "id": "ub0R8CqaxI9h",
    "outputId": "a99ca9fc-bdf4-49c6-8cce-b1a27a926b95"
   },
   "outputs": [
    {
     "data": {
      "text/plain": [
       "Text(0, 0.5, 'Masculino: Adminissão x Departamento e Genero (%)')"
      ]
     },
     "execution_count": 12,
     "metadata": {},
     "output_type": "execute_result"
    },
    {
     "data": {
      "image/png": "[encoded data removed]",
      "text/plain": [
       "<Figure size 1400x500 with 2 Axes>"
      ]
     },
     "metadata": {},
     "output_type": "display_data"
    }
   ],
   "source": [
    "fig, (ax, ax1) = plt.subplots(ncols=2, layout='constrained', figsize=(14,5))\n",
    "\n",
    "df_admissao_depart_genero['PROPORCAO_F'].plot(kind='bar', rot=True, ax=ax)\n",
    "ax.set_ylabel(\"Feminino: Adminissão x Departamento e Genero (%)\")\n",
    "\n",
    "df_admissao_depart_genero['PROPORCAO_M'].plot(kind='bar', rot=True, ax=ax1)\n",
    "ax1.set_ylabel(\"Masculino: Adminissão x Departamento e Genero (%)\")"
   ]
  },
  {
   "cell_type": "code",
   "execution_count": 13,
   "metadata": {
    "colab": {
     "base_uri": "https://localhost:8080/",
     "height": 238
    },
    "executionInfo": {
     "elapsed": 8,
     "status": "ok",
     "timestamp": 1735860637089,
     "user": {
      "displayName": "WAGNER DA COSTA OLIVEIRA",
      "userId": "15827076417170349698"
     },
     "user_tz": 180
    },
    "id": "Ku2Jzf-AqI1R",
    "outputId": "c2b09fe8-763f-4598-a0c3-97d253933da4"
   },
   "outputs": [
    {
     "data": {
      "text/html": [
       "<div>\n",
       "<style scoped>\n",
       "    .dataframe tbody tr th:only-of-type {\n",
       "        vertical-align: middle;\n",
       "    }\n",
       "\n",
       "    .dataframe tbody tr th {\n",
       "        vertical-align: top;\n",
       "    }\n",
       "\n",
       "    .dataframe thead tr th {\n",
       "        text-align: left;\n",
       "    }\n",
       "\n",
       "    .dataframe thead tr:last-of-type th {\n",
       "        text-align: right;\n",
       "    }\n",
       "</style>\n",
       "<table border=\"1\" class=\"dataframe\">\n",
       "  <thead>\n",
       "    <tr>\n",
       "      <th></th>\n",
       "      <th>GENERO</th>\n",
       "      <th colspan=\"2\" halign=\"left\">PROPORCAO_F</th>\n",
       "      <th colspan=\"2\" halign=\"left\">PROPORCAO_M</th>\n",
       "    </tr>\n",
       "    <tr>\n",
       "      <th></th>\n",
       "      <th>ADMISSAO</th>\n",
       "      <th>Accepted</th>\n",
       "      <th>Rejected</th>\n",
       "      <th>Accepted</th>\n",
       "      <th>Rejected</th>\n",
       "    </tr>\n",
       "    <tr>\n",
       "      <th>GENERO</th>\n",
       "      <th>ADMISSAO</th>\n",
       "      <th></th>\n",
       "      <th></th>\n",
       "      <th></th>\n",
       "      <th></th>\n",
       "    </tr>\n",
       "  </thead>\n",
       "  <tbody>\n",
       "    <tr>\n",
       "      <th rowspan=\"2\" valign=\"top\">PROPORCAO_F</th>\n",
       "      <th>Accepted</th>\n",
       "      <td>1.000000</td>\n",
       "      <td>0.992128</td>\n",
       "      <td>-1.000000</td>\n",
       "      <td>-0.992128</td>\n",
       "    </tr>\n",
       "    <tr>\n",
       "      <th>Rejected</th>\n",
       "      <td>0.992128</td>\n",
       "      <td>1.000000</td>\n",
       "      <td>-0.992128</td>\n",
       "      <td>-1.000000</td>\n",
       "    </tr>\n",
       "    <tr>\n",
       "      <th rowspan=\"2\" valign=\"top\">PROPORCAO_M</th>\n",
       "      <th>Accepted</th>\n",
       "      <td>-1.000000</td>\n",
       "      <td>-0.992128</td>\n",
       "      <td>1.000000</td>\n",
       "      <td>0.992128</td>\n",
       "    </tr>\n",
       "    <tr>\n",
       "      <th>Rejected</th>\n",
       "      <td>-0.992128</td>\n",
       "      <td>-1.000000</td>\n",
       "      <td>0.992128</td>\n",
       "      <td>1.000000</td>\n",
       "    </tr>\n",
       "  </tbody>\n",
       "</table>\n",
       "</div>"
      ],
      "text/plain": [
       "GENERO               PROPORCAO_F           PROPORCAO_M          \n",
       "ADMISSAO                Accepted  Rejected    Accepted  Rejected\n",
       "GENERO      ADMISSAO                                            \n",
       "PROPORCAO_F Accepted    1.000000  0.992128   -1.000000 -0.992128\n",
       "            Rejected    0.992128  1.000000   -0.992128 -1.000000\n",
       "PROPORCAO_M Accepted   -1.000000 -0.992128    1.000000  0.992128\n",
       "            Rejected   -0.992128 -1.000000    0.992128  1.000000"
      ]
     },
     "execution_count": 13,
     "metadata": {},
     "output_type": "execute_result"
    }
   ],
   "source": [
    "relacao_admissao_departamento_genero = df_admissao_depart_genero[['PROPORCAO_F', 'PROPORCAO_M']].corr()\n",
    "relacao_admissao_departamento_genero\n"
   ]
  },
  {
   "cell_type": "code",
   "execution_count": 14,
   "metadata": {
    "colab": {
     "base_uri": "https://localhost:8080/",
     "height": 633
    },
    "executionInfo": {
     "elapsed": 3007,
     "status": "ok",
     "timestamp": 1735860640090,
     "user": {
      "displayName": "WAGNER DA COSTA OLIVEIRA",
      "userId": "15827076417170349698"
     },
     "user_tz": 180
    },
    "id": "BEk0gzvosjKn",
    "outputId": "a45090c2-35dd-408b-b503-cb9adffc5f2b"
   },
   "outputs": [
    {
     "data": {
      "text/plain": [
       "<Axes: xlabel='GENERO-ADMISSAO', ylabel='GENERO-ADMISSAO'>"
      ]
     },
     "execution_count": 14,
     "metadata": {},
     "output_type": "execute_result"
    },
    {
     "data": {
      "image/png": "[encoded data removed]",
      "text/plain": [
       "<Figure size 640x480 with 2 Axes>"
      ]
     },
     "metadata": {},
     "output_type": "display_data"
    }
   ],
   "source": [
    "import seaborn as sns\n",
    "\n",
    "sns.heatmap(\n",
    "    relacao_admissao_departamento_genero,\n",
    "    annot=True\n",
    ")"
   ]
  },
  {
   "cell_type": "code",
   "execution_count": 15,
   "metadata": {},
   "outputs": [
    {
     "data": {
      "text/html": [
       "<div>\n",
       "<style scoped>\n",
       "    .dataframe tbody tr th:only-of-type {\n",
       "        vertical-align: middle;\n",
       "    }\n",
       "\n",
       "    .dataframe tbody tr th {\n",
       "        vertical-align: top;\n",
       "    }\n",
       "\n",
       "    .dataframe thead tr th {\n",
       "        text-align: left;\n",
       "    }\n",
       "\n",
       "    .dataframe thead tr:last-of-type th {\n",
       "        text-align: right;\n",
       "    }\n",
       "</style>\n",
       "<table border=\"1\" class=\"dataframe\">\n",
       "  <thead>\n",
       "    <tr>\n",
       "      <th>ADMISSAO</th>\n",
       "      <th colspan=\"2\" halign=\"left\">Accepted</th>\n",
       "      <th colspan=\"2\" halign=\"left\">Rejected</th>\n",
       "      <th colspan=\"2\" halign=\"left\">PROPORCAO_Accepeted</th>\n",
       "      <th colspan=\"2\" halign=\"left\">PROPORCAO_Rejected</th>\n",
       "    </tr>\n",
       "    <tr>\n",
       "      <th>GENERO</th>\n",
       "      <th>F</th>\n",
       "      <th>M</th>\n",
       "      <th>F</th>\n",
       "      <th>M</th>\n",
       "      <th>F</th>\n",
       "      <th>M</th>\n",
       "      <th>F</th>\n",
       "      <th>M</th>\n",
       "    </tr>\n",
       "    <tr>\n",
       "      <th>DEPARTAMENTO</th>\n",
       "      <th></th>\n",
       "      <th></th>\n",
       "      <th></th>\n",
       "      <th></th>\n",
       "      <th></th>\n",
       "      <th></th>\n",
       "      <th></th>\n",
       "      <th></th>\n",
       "    </tr>\n",
       "  </thead>\n",
       "  <tbody>\n",
       "    <tr>\n",
       "      <th>A</th>\n",
       "      <td>89</td>\n",
       "      <td>825</td>\n",
       "      <td>19</td>\n",
       "      <td>313</td>\n",
       "      <td>82.41</td>\n",
       "      <td>72.50</td>\n",
       "      <td>17.59</td>\n",
       "      <td>27.50</td>\n",
       "    </tr>\n",
       "    <tr>\n",
       "      <th>B</th>\n",
       "      <td>17</td>\n",
       "      <td>353</td>\n",
       "      <td>8</td>\n",
       "      <td>207</td>\n",
       "      <td>68.00</td>\n",
       "      <td>63.04</td>\n",
       "      <td>32.00</td>\n",
       "      <td>36.96</td>\n",
       "    </tr>\n",
       "    <tr>\n",
       "      <th>C</th>\n",
       "      <td>201</td>\n",
       "      <td>120</td>\n",
       "      <td>392</td>\n",
       "      <td>205</td>\n",
       "      <td>33.90</td>\n",
       "      <td>36.92</td>\n",
       "      <td>66.10</td>\n",
       "      <td>63.08</td>\n",
       "    </tr>\n",
       "    <tr>\n",
       "      <th>D</th>\n",
       "      <td>131</td>\n",
       "      <td>138</td>\n",
       "      <td>244</td>\n",
       "      <td>279</td>\n",
       "      <td>34.93</td>\n",
       "      <td>33.09</td>\n",
       "      <td>65.07</td>\n",
       "      <td>66.91</td>\n",
       "    </tr>\n",
       "    <tr>\n",
       "      <th>E</th>\n",
       "      <td>94</td>\n",
       "      <td>53</td>\n",
       "      <td>299</td>\n",
       "      <td>138</td>\n",
       "      <td>23.92</td>\n",
       "      <td>27.75</td>\n",
       "      <td>76.08</td>\n",
       "      <td>72.25</td>\n",
       "    </tr>\n",
       "    <tr>\n",
       "      <th>F</th>\n",
       "      <td>25</td>\n",
       "      <td>22</td>\n",
       "      <td>316</td>\n",
       "      <td>351</td>\n",
       "      <td>7.33</td>\n",
       "      <td>5.90</td>\n",
       "      <td>92.67</td>\n",
       "      <td>94.10</td>\n",
       "    </tr>\n",
       "  </tbody>\n",
       "</table>\n",
       "</div>"
      ],
      "text/plain": [
       "ADMISSAO     Accepted      Rejected      PROPORCAO_Accepeted         \\\n",
       "GENERO              F    M        F    M                   F      M   \n",
       "DEPARTAMENTO                                                          \n",
       "A                  89  825       19  313               82.41  72.50   \n",
       "B                  17  353        8  207               68.00  63.04   \n",
       "C                 201  120      392  205               33.90  36.92   \n",
       "D                 131  138      244  279               34.93  33.09   \n",
       "E                  94   53      299  138               23.92  27.75   \n",
       "F                  25   22      316  351                7.33   5.90   \n",
       "\n",
       "ADMISSAO     PROPORCAO_Rejected         \n",
       "GENERO                        F      M  \n",
       "DEPARTAMENTO                            \n",
       "A                         17.59  27.50  \n",
       "B                         32.00  36.96  \n",
       "C                         66.10  63.08  \n",
       "D                         65.07  66.91  \n",
       "E                         76.08  72.25  \n",
       "F                         92.67  94.10  "
      ]
     },
     "execution_count": 15,
     "metadata": {},
     "output_type": "execute_result"
    }
   ],
   "source": [
    "# Calcular a taxa de admissão para cada combinação de valores agrupados (gênero e admissão)\n",
    "# size() conta número de ocorrência em cada grupo\n",
    "# unstack() Reorganiza os valores de ADMISSAO (Accepted, Rejected) em colunas separadas.\n",
    "\n",
    "df_admissao_depart_genero_insc = (\n",
    "    berkeley_preprocessado.groupby(['DEPARTAMENTO', 'GENERO', 'ADMISSAO'])\n",
    "    .size()\n",
    "    .unstack(fill_value=0)\n",
    ")\n",
    "# calcula a propoção de mulheres\n",
    "df_admissao_depart_genero_insc['PROPORCAO_Accepeted'] = (\n",
    "    df_admissao_depart_genero_insc['Accepted'] /\n",
    "    (df_admissao_depart_genero_insc['Accepted'] + df_admissao_depart_genero_insc['Rejected']) * 100\n",
    ").round(2)\n",
    "\n",
    "df_admissao_depart_genero_insc['PROPORCAO_Rejected'] = (\n",
    "    df_admissao_depart_genero_insc['Rejected'] /\n",
    "    (df_admissao_depart_genero_insc['Accepted'] + df_admissao_depart_genero_insc['Rejected']) * 100\n",
    ").round(2)\n",
    "\n",
    "df_admissao_depart_genero_insc = df_admissao_depart_genero_insc.unstack(level=1)\n",
    "df_admissao_depart_genero_insc"
   ]
  },
  {
   "cell_type": "code",
   "execution_count": 16,
   "metadata": {},
   "outputs": [
    {
     "data": {
      "text/plain": [
       "Text(0, 0.5, 'Masculino: Adminissão x Departamento e Genero (%)')"
      ]
     },
     "execution_count": 16,
     "metadata": {},
     "output_type": "execute_result"
    },
    {
     "data": {
      "image/png": "[encoded data removed]",
      "text/plain": [
       "<Figure size 1400x500 with 2 Axes>"
      ]
     },
     "metadata": {},
     "output_type": "display_data"
    }
   ],
   "source": [
    "fig, (ax, ax1) = plt.subplots(ncols=2, layout='constrained', figsize=(14,5))\n",
    "\n",
    "df_admissao_depart_genero_insc['PROPORCAO_Accepeted'].plot(kind='bar', rot=True, ax=ax)\n",
    "ax.set_ylabel(\"Feminino: Adminissão x Departamento e Genero (%)\")\n",
    "\n",
    "df_admissao_depart_genero_insc['PROPORCAO_Rejected'].plot(kind='bar', rot=True, ax=ax1)\n",
    "ax1.set_ylabel(\"Masculino: Adminissão x Departamento e Genero (%)\")"
   ]
  },
  {
   "cell_type": "code",
   "execution_count": 17,
   "metadata": {},
   "outputs": [
    {
     "data": {
      "text/html": [
       "<div>\n",
       "<style scoped>\n",
       "    .dataframe tbody tr th:only-of-type {\n",
       "        vertical-align: middle;\n",
       "    }\n",
       "\n",
       "    .dataframe tbody tr th {\n",
       "        vertical-align: top;\n",
       "    }\n",
       "\n",
       "    .dataframe thead tr th {\n",
       "        text-align: left;\n",
       "    }\n",
       "\n",
       "    .dataframe thead tr:last-of-type th {\n",
       "        text-align: right;\n",
       "    }\n",
       "</style>\n",
       "<table border=\"1\" class=\"dataframe\">\n",
       "  <thead>\n",
       "    <tr>\n",
       "      <th></th>\n",
       "      <th>ADMISSAO</th>\n",
       "      <th colspan=\"2\" halign=\"left\">PROPORCAO_Accepeted</th>\n",
       "      <th colspan=\"2\" halign=\"left\">PROPORCAO_Rejected</th>\n",
       "    </tr>\n",
       "    <tr>\n",
       "      <th></th>\n",
       "      <th>GENERO</th>\n",
       "      <th>F</th>\n",
       "      <th>M</th>\n",
       "      <th>F</th>\n",
       "      <th>M</th>\n",
       "    </tr>\n",
       "    <tr>\n",
       "      <th>ADMISSAO</th>\n",
       "      <th>GENERO</th>\n",
       "      <th></th>\n",
       "      <th></th>\n",
       "      <th></th>\n",
       "      <th></th>\n",
       "    </tr>\n",
       "  </thead>\n",
       "  <tbody>\n",
       "    <tr>\n",
       "      <th rowspan=\"2\" valign=\"top\">PROPORCAO_Accepeted</th>\n",
       "      <th>F</th>\n",
       "      <td>1.000000</td>\n",
       "      <td>0.991426</td>\n",
       "      <td>-1.000000</td>\n",
       "      <td>-0.991426</td>\n",
       "    </tr>\n",
       "    <tr>\n",
       "      <th>M</th>\n",
       "      <td>0.991426</td>\n",
       "      <td>1.000000</td>\n",
       "      <td>-0.991426</td>\n",
       "      <td>-1.000000</td>\n",
       "    </tr>\n",
       "    <tr>\n",
       "      <th rowspan=\"2\" valign=\"top\">PROPORCAO_Rejected</th>\n",
       "      <th>F</th>\n",
       "      <td>-1.000000</td>\n",
       "      <td>-0.991426</td>\n",
       "      <td>1.000000</td>\n",
       "      <td>0.991426</td>\n",
       "    </tr>\n",
       "    <tr>\n",
       "      <th>M</th>\n",
       "      <td>-0.991426</td>\n",
       "      <td>-1.000000</td>\n",
       "      <td>0.991426</td>\n",
       "      <td>1.000000</td>\n",
       "    </tr>\n",
       "  </tbody>\n",
       "</table>\n",
       "</div>"
      ],
      "text/plain": [
       "ADMISSAO                   PROPORCAO_Accepeted           PROPORCAO_Rejected  \\\n",
       "GENERO                                       F         M                  F   \n",
       "ADMISSAO            GENERO                                                    \n",
       "PROPORCAO_Accepeted F                 1.000000  0.991426          -1.000000   \n",
       "                    M                 0.991426  1.000000          -0.991426   \n",
       "PROPORCAO_Rejected  F                -1.000000 -0.991426           1.000000   \n",
       "                    M                -0.991426 -1.000000           0.991426   \n",
       "\n",
       "ADMISSAO                              \n",
       "GENERO                             M  \n",
       "ADMISSAO            GENERO            \n",
       "PROPORCAO_Accepeted F      -0.991426  \n",
       "                    M      -1.000000  \n",
       "PROPORCAO_Rejected  F       0.991426  \n",
       "                    M       1.000000  "
      ]
     },
     "execution_count": 17,
     "metadata": {},
     "output_type": "execute_result"
    }
   ],
   "source": [
    "relacao_admissao_departamento_genero_insc = df_admissao_depart_genero_insc[['PROPORCAO_Accepeted', 'PROPORCAO_Rejected']].corr()\n",
    "relacao_admissao_departamento_genero_insc"
   ]
  },
  {
   "cell_type": "code",
   "execution_count": 18,
   "metadata": {},
   "outputs": [
    {
     "data": {
      "text/plain": [
       "<Axes: xlabel='ADMISSAO-GENERO', ylabel='ADMISSAO-GENERO'>"
      ]
     },
     "execution_count": 18,
     "metadata": {},
     "output_type": "execute_result"
    },
    {
     "data": {
      "image/png": "[encoded data removed]",
      "text/plain": [
       "<Figure size 640x480 with 2 Axes>"
      ]
     },
     "metadata": {},
     "output_type": "display_data"
    }
   ],
   "source": [
    "import seaborn as sns\n",
    "\n",
    "sns.heatmap(\n",
    "    relacao_admissao_departamento_genero_insc,\n",
    "    annot=True\n",
    ")"
   ]
  },
  {
   "cell_type": "markdown",
   "metadata": {
    "id": "RYwMchhExI9h"
   },
   "source": [
    "### 7. Comparar as taxas de admissão agregadas e desagregadas por departamento."
   ]
  },
  {
   "cell_type": "markdown",
   "metadata": {
    "id": "JlaFO4FBxI9h"
   },
   "source": [
    "#### ADMISSAO AGREGADA"
   ]
  },
  {
   "cell_type": "code",
   "execution_count": 19,
   "metadata": {
    "colab": {
     "base_uri": "https://localhost:8080/",
     "height": 269
    },
    "executionInfo": {
     "elapsed": 6,
     "status": "ok",
     "timestamp": 1735860640090,
     "user": {
      "displayName": "WAGNER DA COSTA OLIVEIRA",
      "userId": "15827076417170349698"
     },
     "user_tz": 180
    },
    "id": "uab3BbecxI9i",
    "outputId": "297a4ad2-0190-4f03-b5ae-08c4cbdc5b37"
   },
   "outputs": [
    {
     "data": {
      "text/html": [
       "<div>\n",
       "<style scoped>\n",
       "    .dataframe tbody tr th:only-of-type {\n",
       "        vertical-align: middle;\n",
       "    }\n",
       "\n",
       "    .dataframe tbody tr th {\n",
       "        vertical-align: top;\n",
       "    }\n",
       "\n",
       "    .dataframe thead th {\n",
       "        text-align: right;\n",
       "    }\n",
       "</style>\n",
       "<table border=\"1\" class=\"dataframe\">\n",
       "  <thead>\n",
       "    <tr style=\"text-align: right;\">\n",
       "      <th>ADMISSAO</th>\n",
       "      <th>Accepted</th>\n",
       "      <th>Rejected</th>\n",
       "    </tr>\n",
       "    <tr>\n",
       "      <th>DEPARTAMENTO</th>\n",
       "      <th></th>\n",
       "      <th></th>\n",
       "    </tr>\n",
       "  </thead>\n",
       "  <tbody>\n",
       "    <tr>\n",
       "      <th>A</th>\n",
       "      <td>914</td>\n",
       "      <td>332</td>\n",
       "    </tr>\n",
       "    <tr>\n",
       "      <th>B</th>\n",
       "      <td>370</td>\n",
       "      <td>215</td>\n",
       "    </tr>\n",
       "    <tr>\n",
       "      <th>C</th>\n",
       "      <td>321</td>\n",
       "      <td>597</td>\n",
       "    </tr>\n",
       "    <tr>\n",
       "      <th>D</th>\n",
       "      <td>269</td>\n",
       "      <td>523</td>\n",
       "    </tr>\n",
       "    <tr>\n",
       "      <th>E</th>\n",
       "      <td>147</td>\n",
       "      <td>437</td>\n",
       "    </tr>\n",
       "    <tr>\n",
       "      <th>F</th>\n",
       "      <td>47</td>\n",
       "      <td>667</td>\n",
       "    </tr>\n",
       "  </tbody>\n",
       "</table>\n",
       "</div>"
      ],
      "text/plain": [
       "ADMISSAO      Accepted  Rejected\n",
       "DEPARTAMENTO                    \n",
       "A                  914       332\n",
       "B                  370       215\n",
       "C                  321       597\n",
       "D                  269       523\n",
       "E                  147       437\n",
       "F                   47       667"
      ]
     },
     "execution_count": 19,
     "metadata": {},
     "output_type": "execute_result"
    }
   ],
   "source": [
    "df_admissao_departamento = (\n",
    "    berkeley_preprocessado.groupby(['DEPARTAMENTO', 'ADMISSAO'])\n",
    "    .size()\n",
    "    .unstack(fill_value=0)\n",
    ")\n",
    "\n",
    "df_admissao_departamento"
   ]
  },
  {
   "cell_type": "code",
   "execution_count": 20,
   "metadata": {
    "colab": {
     "base_uri": "https://localhost:8080/",
     "height": 269
    },
    "executionInfo": {
     "elapsed": 27,
     "status": "ok",
     "timestamp": 1735860640580,
     "user": {
      "displayName": "WAGNER DA COSTA OLIVEIRA",
      "userId": "15827076417170349698"
     },
     "user_tz": 180
    },
    "id": "nFVlj83yxI9i",
    "outputId": "4047abd2-fe21-4c4d-80dc-43629356fa43"
   },
   "outputs": [
    {
     "data": {
      "text/html": [
       "<div>\n",
       "<style scoped>\n",
       "    .dataframe tbody tr th:only-of-type {\n",
       "        vertical-align: middle;\n",
       "    }\n",
       "\n",
       "    .dataframe tbody tr th {\n",
       "        vertical-align: top;\n",
       "    }\n",
       "\n",
       "    .dataframe thead th {\n",
       "        text-align: right;\n",
       "    }\n",
       "</style>\n",
       "<table border=\"1\" class=\"dataframe\">\n",
       "  <thead>\n",
       "    <tr style=\"text-align: right;\">\n",
       "      <th>ADMISSAO</th>\n",
       "      <th>Accepted</th>\n",
       "      <th>Rejected</th>\n",
       "      <th>TAXA_ADM_AGREGADA</th>\n",
       "    </tr>\n",
       "    <tr>\n",
       "      <th>DEPARTAMENTO</th>\n",
       "      <th></th>\n",
       "      <th></th>\n",
       "      <th></th>\n",
       "    </tr>\n",
       "  </thead>\n",
       "  <tbody>\n",
       "    <tr>\n",
       "      <th>A</th>\n",
       "      <td>914</td>\n",
       "      <td>332</td>\n",
       "      <td>73.35</td>\n",
       "    </tr>\n",
       "    <tr>\n",
       "      <th>B</th>\n",
       "      <td>370</td>\n",
       "      <td>215</td>\n",
       "      <td>63.25</td>\n",
       "    </tr>\n",
       "    <tr>\n",
       "      <th>C</th>\n",
       "      <td>321</td>\n",
       "      <td>597</td>\n",
       "      <td>34.97</td>\n",
       "    </tr>\n",
       "    <tr>\n",
       "      <th>D</th>\n",
       "      <td>269</td>\n",
       "      <td>523</td>\n",
       "      <td>33.96</td>\n",
       "    </tr>\n",
       "    <tr>\n",
       "      <th>E</th>\n",
       "      <td>147</td>\n",
       "      <td>437</td>\n",
       "      <td>25.17</td>\n",
       "    </tr>\n",
       "    <tr>\n",
       "      <th>F</th>\n",
       "      <td>47</td>\n",
       "      <td>667</td>\n",
       "      <td>6.58</td>\n",
       "    </tr>\n",
       "  </tbody>\n",
       "</table>\n",
       "</div>"
      ],
      "text/plain": [
       "ADMISSAO      Accepted  Rejected  TAXA_ADM_AGREGADA\n",
       "DEPARTAMENTO                                       \n",
       "A                  914       332              73.35\n",
       "B                  370       215              63.25\n",
       "C                  321       597              34.97\n",
       "D                  269       523              33.96\n",
       "E                  147       437              25.17\n",
       "F                   47       667               6.58"
      ]
     },
     "execution_count": 20,
     "metadata": {},
     "output_type": "execute_result"
    }
   ],
   "source": [
    "df_admissao_departamento['TAXA_ADM_AGREGADA'] = (\n",
    "    df_admissao_departamento['Accepted'] / (df_admissao_departamento['Accepted'] + df_admissao_departamento['Rejected']) * 100\n",
    ").round(2)\n",
    "\n",
    "df_admissao_departamento\n"
   ]
  },
  {
   "cell_type": "markdown",
   "metadata": {
    "id": "3hbEVMF8xI9i"
   },
   "source": [
    "#### ADMISSAO DESAGREGADA"
   ]
  },
  {
   "cell_type": "code",
   "execution_count": 21,
   "metadata": {
    "colab": {
     "base_uri": "https://localhost:8080/",
     "height": 457
    },
    "executionInfo": {
     "elapsed": 25,
     "status": "ok",
     "timestamp": 1735860640580,
     "user": {
      "displayName": "WAGNER DA COSTA OLIVEIRA",
      "userId": "15827076417170349698"
     },
     "user_tz": 180
    },
    "id": "YUCEkDiRxI9i",
    "outputId": "4a7e1e1a-1204-4bc7-8c9c-4fef10c2db98"
   },
   "outputs": [
    {
     "data": {
      "text/html": [
       "<div>\n",
       "<style scoped>\n",
       "    .dataframe tbody tr th:only-of-type {\n",
       "        vertical-align: middle;\n",
       "    }\n",
       "\n",
       "    .dataframe tbody tr th {\n",
       "        vertical-align: top;\n",
       "    }\n",
       "\n",
       "    .dataframe thead th {\n",
       "        text-align: right;\n",
       "    }\n",
       "</style>\n",
       "<table border=\"1\" class=\"dataframe\">\n",
       "  <thead>\n",
       "    <tr style=\"text-align: right;\">\n",
       "      <th></th>\n",
       "      <th>ADMISSAO</th>\n",
       "      <th>Accepted</th>\n",
       "      <th>Rejected</th>\n",
       "    </tr>\n",
       "    <tr>\n",
       "      <th>DEPARTAMENTO</th>\n",
       "      <th>GENERO</th>\n",
       "      <th></th>\n",
       "      <th></th>\n",
       "    </tr>\n",
       "  </thead>\n",
       "  <tbody>\n",
       "    <tr>\n",
       "      <th rowspan=\"2\" valign=\"top\">A</th>\n",
       "      <th>F</th>\n",
       "      <td>89</td>\n",
       "      <td>19</td>\n",
       "    </tr>\n",
       "    <tr>\n",
       "      <th>M</th>\n",
       "      <td>825</td>\n",
       "      <td>313</td>\n",
       "    </tr>\n",
       "    <tr>\n",
       "      <th rowspan=\"2\" valign=\"top\">B</th>\n",
       "      <th>F</th>\n",
       "      <td>17</td>\n",
       "      <td>8</td>\n",
       "    </tr>\n",
       "    <tr>\n",
       "      <th>M</th>\n",
       "      <td>353</td>\n",
       "      <td>207</td>\n",
       "    </tr>\n",
       "    <tr>\n",
       "      <th rowspan=\"2\" valign=\"top\">C</th>\n",
       "      <th>F</th>\n",
       "      <td>201</td>\n",
       "      <td>392</td>\n",
       "    </tr>\n",
       "    <tr>\n",
       "      <th>M</th>\n",
       "      <td>120</td>\n",
       "      <td>205</td>\n",
       "    </tr>\n",
       "    <tr>\n",
       "      <th rowspan=\"2\" valign=\"top\">D</th>\n",
       "      <th>F</th>\n",
       "      <td>131</td>\n",
       "      <td>244</td>\n",
       "    </tr>\n",
       "    <tr>\n",
       "      <th>M</th>\n",
       "      <td>138</td>\n",
       "      <td>279</td>\n",
       "    </tr>\n",
       "    <tr>\n",
       "      <th rowspan=\"2\" valign=\"top\">E</th>\n",
       "      <th>F</th>\n",
       "      <td>94</td>\n",
       "      <td>299</td>\n",
       "    </tr>\n",
       "    <tr>\n",
       "      <th>M</th>\n",
       "      <td>53</td>\n",
       "      <td>138</td>\n",
       "    </tr>\n",
       "    <tr>\n",
       "      <th rowspan=\"2\" valign=\"top\">F</th>\n",
       "      <th>F</th>\n",
       "      <td>25</td>\n",
       "      <td>316</td>\n",
       "    </tr>\n",
       "    <tr>\n",
       "      <th>M</th>\n",
       "      <td>22</td>\n",
       "      <td>351</td>\n",
       "    </tr>\n",
       "  </tbody>\n",
       "</table>\n",
       "</div>"
      ],
      "text/plain": [
       "ADMISSAO             Accepted  Rejected\n",
       "DEPARTAMENTO GENERO                    \n",
       "A            F             89        19\n",
       "             M            825       313\n",
       "B            F             17         8\n",
       "             M            353       207\n",
       "C            F            201       392\n",
       "             M            120       205\n",
       "D            F            131       244\n",
       "             M            138       279\n",
       "E            F             94       299\n",
       "             M             53       138\n",
       "F            F             25       316\n",
       "             M             22       351"
      ]
     },
     "execution_count": 21,
     "metadata": {},
     "output_type": "execute_result"
    }
   ],
   "source": [
    "df_admissao_genero = (\n",
    "    berkeley_preprocessado.groupby(['DEPARTAMENTO', 'GENERO', 'ADMISSAO'])\n",
    "    .size()\n",
    "    .unstack(fill_value=0))\n",
    "\n",
    "df_admissao_genero\n"
   ]
  },
  {
   "cell_type": "code",
   "execution_count": 22,
   "metadata": {
    "colab": {
     "base_uri": "https://localhost:8080/",
     "height": 457
    },
    "executionInfo": {
     "elapsed": 23,
     "status": "ok",
     "timestamp": 1735860640581,
     "user": {
      "displayName": "WAGNER DA COSTA OLIVEIRA",
      "userId": "15827076417170349698"
     },
     "user_tz": 180
    },
    "id": "NfzL-S-bxI9i",
    "outputId": "991d639b-947a-4456-8f00-51963f05881e"
   },
   "outputs": [
    {
     "data": {
      "text/html": [
       "<div>\n",
       "<style scoped>\n",
       "    .dataframe tbody tr th:only-of-type {\n",
       "        vertical-align: middle;\n",
       "    }\n",
       "\n",
       "    .dataframe tbody tr th {\n",
       "        vertical-align: top;\n",
       "    }\n",
       "\n",
       "    .dataframe thead th {\n",
       "        text-align: right;\n",
       "    }\n",
       "</style>\n",
       "<table border=\"1\" class=\"dataframe\">\n",
       "  <thead>\n",
       "    <tr style=\"text-align: right;\">\n",
       "      <th></th>\n",
       "      <th>ADMISSAO</th>\n",
       "      <th>Accepted</th>\n",
       "      <th>Rejected</th>\n",
       "      <th>TAXA_ADM_DESAGREGADA</th>\n",
       "    </tr>\n",
       "    <tr>\n",
       "      <th>DEPARTAMENTO</th>\n",
       "      <th>GENERO</th>\n",
       "      <th></th>\n",
       "      <th></th>\n",
       "      <th></th>\n",
       "    </tr>\n",
       "  </thead>\n",
       "  <tbody>\n",
       "    <tr>\n",
       "      <th rowspan=\"2\" valign=\"top\">A</th>\n",
       "      <th>F</th>\n",
       "      <td>89</td>\n",
       "      <td>19</td>\n",
       "      <td>82.41</td>\n",
       "    </tr>\n",
       "    <tr>\n",
       "      <th>M</th>\n",
       "      <td>825</td>\n",
       "      <td>313</td>\n",
       "      <td>72.50</td>\n",
       "    </tr>\n",
       "    <tr>\n",
       "      <th rowspan=\"2\" valign=\"top\">B</th>\n",
       "      <th>F</th>\n",
       "      <td>17</td>\n",
       "      <td>8</td>\n",
       "      <td>68.00</td>\n",
       "    </tr>\n",
       "    <tr>\n",
       "      <th>M</th>\n",
       "      <td>353</td>\n",
       "      <td>207</td>\n",
       "      <td>63.04</td>\n",
       "    </tr>\n",
       "    <tr>\n",
       "      <th rowspan=\"2\" valign=\"top\">C</th>\n",
       "      <th>F</th>\n",
       "      <td>201</td>\n",
       "      <td>392</td>\n",
       "      <td>33.90</td>\n",
       "    </tr>\n",
       "    <tr>\n",
       "      <th>M</th>\n",
       "      <td>120</td>\n",
       "      <td>205</td>\n",
       "      <td>36.92</td>\n",
       "    </tr>\n",
       "    <tr>\n",
       "      <th rowspan=\"2\" valign=\"top\">D</th>\n",
       "      <th>F</th>\n",
       "      <td>131</td>\n",
       "      <td>244</td>\n",
       "      <td>34.93</td>\n",
       "    </tr>\n",
       "    <tr>\n",
       "      <th>M</th>\n",
       "      <td>138</td>\n",
       "      <td>279</td>\n",
       "      <td>33.09</td>\n",
       "    </tr>\n",
       "    <tr>\n",
       "      <th rowspan=\"2\" valign=\"top\">E</th>\n",
       "      <th>F</th>\n",
       "      <td>94</td>\n",
       "      <td>299</td>\n",
       "      <td>23.92</td>\n",
       "    </tr>\n",
       "    <tr>\n",
       "      <th>M</th>\n",
       "      <td>53</td>\n",
       "      <td>138</td>\n",
       "      <td>27.75</td>\n",
       "    </tr>\n",
       "    <tr>\n",
       "      <th rowspan=\"2\" valign=\"top\">F</th>\n",
       "      <th>F</th>\n",
       "      <td>25</td>\n",
       "      <td>316</td>\n",
       "      <td>7.33</td>\n",
       "    </tr>\n",
       "    <tr>\n",
       "      <th>M</th>\n",
       "      <td>22</td>\n",
       "      <td>351</td>\n",
       "      <td>5.90</td>\n",
       "    </tr>\n",
       "  </tbody>\n",
       "</table>\n",
       "</div>"
      ],
      "text/plain": [
       "ADMISSAO             Accepted  Rejected  TAXA_ADM_DESAGREGADA\n",
       "DEPARTAMENTO GENERO                                          \n",
       "A            F             89        19                 82.41\n",
       "             M            825       313                 72.50\n",
       "B            F             17         8                 68.00\n",
       "             M            353       207                 63.04\n",
       "C            F            201       392                 33.90\n",
       "             M            120       205                 36.92\n",
       "D            F            131       244                 34.93\n",
       "             M            138       279                 33.09\n",
       "E            F             94       299                 23.92\n",
       "             M             53       138                 27.75\n",
       "F            F             25       316                  7.33\n",
       "             M             22       351                  5.90"
      ]
     },
     "execution_count": 22,
     "metadata": {},
     "output_type": "execute_result"
    }
   ],
   "source": [
    "df_admissao_genero['TAXA_ADM_DESAGREGADA'] = (\n",
    "    df_admissao_genero['Accepted'] / (df_admissao_genero['Accepted'] + df_admissao_genero['Rejected']) * 100\n",
    ").round(2)\n",
    "\n",
    "df_admissao_genero"
   ]
  },
  {
   "cell_type": "code",
   "execution_count": 23,
   "metadata": {
    "colab": {
     "base_uri": "https://localhost:8080/",
     "height": 175
    },
    "executionInfo": {
     "elapsed": 21,
     "status": "ok",
     "timestamp": 1735860640581,
     "user": {
      "displayName": "WAGNER DA COSTA OLIVEIRA",
      "userId": "15827076417170349698"
     },
     "user_tz": 180
    },
    "id": "qEyC3L_wxI9i",
    "outputId": "a69d8668-224f-4f21-ef39-8b786d4e808a"
   },
   "outputs": [
    {
     "data": {
      "text/html": [
       "<div>\n",
       "<style scoped>\n",
       "    .dataframe tbody tr th:only-of-type {\n",
       "        vertical-align: middle;\n",
       "    }\n",
       "\n",
       "    .dataframe tbody tr th {\n",
       "        vertical-align: top;\n",
       "    }\n",
       "\n",
       "    .dataframe thead tr th {\n",
       "        text-align: left;\n",
       "    }\n",
       "\n",
       "    .dataframe thead tr:last-of-type th {\n",
       "        text-align: right;\n",
       "    }\n",
       "</style>\n",
       "<table border=\"1\" class=\"dataframe\">\n",
       "  <thead>\n",
       "    <tr>\n",
       "      <th>ADMISSAO</th>\n",
       "      <th colspan=\"6\" halign=\"left\">TAXA_ADM_AGREGADA</th>\n",
       "      <th colspan=\"6\" halign=\"left\">TAXA_ADM_DESAGREGADA</th>\n",
       "    </tr>\n",
       "    <tr>\n",
       "      <th>DEPARTAMENTO</th>\n",
       "      <th>A</th>\n",
       "      <th>B</th>\n",
       "      <th>C</th>\n",
       "      <th>D</th>\n",
       "      <th>E</th>\n",
       "      <th>F</th>\n",
       "      <th>A</th>\n",
       "      <th>B</th>\n",
       "      <th>C</th>\n",
       "      <th>D</th>\n",
       "      <th>E</th>\n",
       "      <th>F</th>\n",
       "    </tr>\n",
       "    <tr>\n",
       "      <th>GENERO</th>\n",
       "      <th></th>\n",
       "      <th></th>\n",
       "      <th></th>\n",
       "      <th></th>\n",
       "      <th></th>\n",
       "      <th></th>\n",
       "      <th></th>\n",
       "      <th></th>\n",
       "      <th></th>\n",
       "      <th></th>\n",
       "      <th></th>\n",
       "      <th></th>\n",
       "    </tr>\n",
       "  </thead>\n",
       "  <tbody>\n",
       "    <tr>\n",
       "      <th>F</th>\n",
       "      <td>73.35</td>\n",
       "      <td>63.25</td>\n",
       "      <td>34.97</td>\n",
       "      <td>33.96</td>\n",
       "      <td>25.17</td>\n",
       "      <td>6.58</td>\n",
       "      <td>82.41</td>\n",
       "      <td>68.00</td>\n",
       "      <td>33.90</td>\n",
       "      <td>34.93</td>\n",
       "      <td>23.92</td>\n",
       "      <td>7.33</td>\n",
       "    </tr>\n",
       "    <tr>\n",
       "      <th>M</th>\n",
       "      <td>73.35</td>\n",
       "      <td>63.25</td>\n",
       "      <td>34.97</td>\n",
       "      <td>33.96</td>\n",
       "      <td>25.17</td>\n",
       "      <td>6.58</td>\n",
       "      <td>72.50</td>\n",
       "      <td>63.04</td>\n",
       "      <td>36.92</td>\n",
       "      <td>33.09</td>\n",
       "      <td>27.75</td>\n",
       "      <td>5.90</td>\n",
       "    </tr>\n",
       "  </tbody>\n",
       "</table>\n",
       "</div>"
      ],
      "text/plain": [
       "ADMISSAO     TAXA_ADM_AGREGADA                                    \\\n",
       "DEPARTAMENTO                 A      B      C      D      E     F   \n",
       "GENERO                                                             \n",
       "F                        73.35  63.25  34.97  33.96  25.17  6.58   \n",
       "M                        73.35  63.25  34.97  33.96  25.17  6.58   \n",
       "\n",
       "ADMISSAO     TAXA_ADM_DESAGREGADA                                    \n",
       "DEPARTAMENTO                    A      B      C      D      E     F  \n",
       "GENERO                                                               \n",
       "F                           82.41  68.00  33.90  34.93  23.92  7.33  \n",
       "M                           72.50  63.04  36.92  33.09  27.75  5.90  "
      ]
     },
     "execution_count": 23,
     "metadata": {},
     "output_type": "execute_result"
    }
   ],
   "source": [
    "tx_comparacao = df_admissao_departamento[['TAXA_ADM_AGREGADA']].join(\n",
    "    df_admissao_genero[['TAXA_ADM_DESAGREGADA']], how='left'\n",
    ")\n",
    "\n",
    "tx_comparacao = tx_comparacao.unstack(level=0)\n",
    "\n",
    "tx_comparacao"
   ]
  },
  {
   "cell_type": "code",
   "execution_count": 24,
   "metadata": {
    "colab": {
     "base_uri": "https://localhost:8080/",
     "height": 545
    },
    "executionInfo": {
     "elapsed": 644,
     "status": "ok",
     "timestamp": 1735860641207,
     "user": {
      "displayName": "WAGNER DA COSTA OLIVEIRA",
      "userId": "15827076417170349698"
     },
     "user_tz": 180
    },
    "id": "Z31GfOaPxI9i",
    "outputId": "cea1e65a-6cf1-4c3d-d95a-73d53b9617d6"
   },
   "outputs": [
    {
     "data": {
      "text/plain": [
       "Text(0, 0.5, 'Taxa Desagregada(%)')"
      ]
     },
     "execution_count": 24,
     "metadata": {},
     "output_type": "execute_result"
    },
    {
     "data": {
      "image/png": "[encoded data removed]",
      "text/plain": [
       "<Figure size 1400x500 with 2 Axes>"
      ]
     },
     "metadata": {},
     "output_type": "display_data"
    }
   ],
   "source": [
    "fig, (ax, ax1) = plt.subplots(ncols=2, layout='constrained', figsize=(14,5))\n",
    "\n",
    "tx_comparacao['TAXA_ADM_AGREGADA'].plot(kind='bar', rot=True, ax=ax)\n",
    "ax.set_ylabel(\"Taxa Agregada (%)\")\n",
    "\n",
    "tx_comparacao['TAXA_ADM_DESAGREGADA'].plot(kind='bar', rot=True, ax=ax1)\n",
    "ax1.set_ylabel(\"Taxa Desagregada(%)\")"
   ]
  },
  {
   "cell_type": "markdown",
   "metadata": {
    "id": "_xxi77ChxI9j"
   },
   "source": [
    "### 8. Verificar a relação entre o número de candidatos e as taxas de admissão/rejeição por gênero e departamento."
   ]
  },
  {
   "cell_type": "code",
   "execution_count": 25,
   "metadata": {
    "colab": {
     "base_uri": "https://localhost:8080/",
     "height": 457
    },
    "executionInfo": {
     "elapsed": 14,
     "status": "ok",
     "timestamp": 1735860641208,
     "user": {
      "displayName": "WAGNER DA COSTA OLIVEIRA",
      "userId": "15827076417170349698"
     },
     "user_tz": 180
    },
    "id": "iEUIq1gtxI9j",
    "outputId": "45b02e6a-f6d4-4071-929e-5a80041875d5"
   },
   "outputs": [
    {
     "data": {
      "text/html": [
       "<div>\n",
       "<style scoped>\n",
       "    .dataframe tbody tr th:only-of-type {\n",
       "        vertical-align: middle;\n",
       "    }\n",
       "\n",
       "    .dataframe tbody tr th {\n",
       "        vertical-align: top;\n",
       "    }\n",
       "\n",
       "    .dataframe thead th {\n",
       "        text-align: right;\n",
       "    }\n",
       "</style>\n",
       "<table border=\"1\" class=\"dataframe\">\n",
       "  <thead>\n",
       "    <tr style=\"text-align: right;\">\n",
       "      <th></th>\n",
       "      <th>ADMISSAO</th>\n",
       "      <th>Accepted</th>\n",
       "      <th>Rejected</th>\n",
       "      <th>TAXA_ADMISSAO</th>\n",
       "      <th>TAXA_REJEICAO</th>\n",
       "      <th>TOTAL_CANDIDATOS</th>\n",
       "    </tr>\n",
       "    <tr>\n",
       "      <th>DEPARTAMENTO</th>\n",
       "      <th>GENERO</th>\n",
       "      <th></th>\n",
       "      <th></th>\n",
       "      <th></th>\n",
       "      <th></th>\n",
       "      <th></th>\n",
       "    </tr>\n",
       "  </thead>\n",
       "  <tbody>\n",
       "    <tr>\n",
       "      <th rowspan=\"2\" valign=\"top\">A</th>\n",
       "      <th>F</th>\n",
       "      <td>89</td>\n",
       "      <td>19</td>\n",
       "      <td>82.41</td>\n",
       "      <td>17.59</td>\n",
       "      <td>108</td>\n",
       "    </tr>\n",
       "    <tr>\n",
       "      <th>M</th>\n",
       "      <td>825</td>\n",
       "      <td>313</td>\n",
       "      <td>72.50</td>\n",
       "      <td>27.50</td>\n",
       "      <td>1138</td>\n",
       "    </tr>\n",
       "    <tr>\n",
       "      <th rowspan=\"2\" valign=\"top\">B</th>\n",
       "      <th>F</th>\n",
       "      <td>17</td>\n",
       "      <td>8</td>\n",
       "      <td>68.00</td>\n",
       "      <td>32.00</td>\n",
       "      <td>25</td>\n",
       "    </tr>\n",
       "    <tr>\n",
       "      <th>M</th>\n",
       "      <td>353</td>\n",
       "      <td>207</td>\n",
       "      <td>63.04</td>\n",
       "      <td>36.96</td>\n",
       "      <td>560</td>\n",
       "    </tr>\n",
       "    <tr>\n",
       "      <th rowspan=\"2\" valign=\"top\">C</th>\n",
       "      <th>F</th>\n",
       "      <td>201</td>\n",
       "      <td>392</td>\n",
       "      <td>33.90</td>\n",
       "      <td>66.10</td>\n",
       "      <td>593</td>\n",
       "    </tr>\n",
       "    <tr>\n",
       "      <th>M</th>\n",
       "      <td>120</td>\n",
       "      <td>205</td>\n",
       "      <td>36.92</td>\n",
       "      <td>63.08</td>\n",
       "      <td>325</td>\n",
       "    </tr>\n",
       "    <tr>\n",
       "      <th rowspan=\"2\" valign=\"top\">D</th>\n",
       "      <th>F</th>\n",
       "      <td>131</td>\n",
       "      <td>244</td>\n",
       "      <td>34.93</td>\n",
       "      <td>65.07</td>\n",
       "      <td>375</td>\n",
       "    </tr>\n",
       "    <tr>\n",
       "      <th>M</th>\n",
       "      <td>138</td>\n",
       "      <td>279</td>\n",
       "      <td>33.09</td>\n",
       "      <td>66.91</td>\n",
       "      <td>417</td>\n",
       "    </tr>\n",
       "    <tr>\n",
       "      <th rowspan=\"2\" valign=\"top\">E</th>\n",
       "      <th>F</th>\n",
       "      <td>94</td>\n",
       "      <td>299</td>\n",
       "      <td>23.92</td>\n",
       "      <td>76.08</td>\n",
       "      <td>393</td>\n",
       "    </tr>\n",
       "    <tr>\n",
       "      <th>M</th>\n",
       "      <td>53</td>\n",
       "      <td>138</td>\n",
       "      <td>27.75</td>\n",
       "      <td>72.25</td>\n",
       "      <td>191</td>\n",
       "    </tr>\n",
       "    <tr>\n",
       "      <th rowspan=\"2\" valign=\"top\">F</th>\n",
       "      <th>F</th>\n",
       "      <td>25</td>\n",
       "      <td>316</td>\n",
       "      <td>7.33</td>\n",
       "      <td>92.67</td>\n",
       "      <td>341</td>\n",
       "    </tr>\n",
       "    <tr>\n",
       "      <th>M</th>\n",
       "      <td>22</td>\n",
       "      <td>351</td>\n",
       "      <td>5.90</td>\n",
       "      <td>94.10</td>\n",
       "      <td>373</td>\n",
       "    </tr>\n",
       "  </tbody>\n",
       "</table>\n",
       "</div>"
      ],
      "text/plain": [
       "ADMISSAO             Accepted  Rejected  TAXA_ADMISSAO  TAXA_REJEICAO  \\\n",
       "DEPARTAMENTO GENERO                                                     \n",
       "A            F             89        19          82.41          17.59   \n",
       "             M            825       313          72.50          27.50   \n",
       "B            F             17         8          68.00          32.00   \n",
       "             M            353       207          63.04          36.96   \n",
       "C            F            201       392          33.90          66.10   \n",
       "             M            120       205          36.92          63.08   \n",
       "D            F            131       244          34.93          65.07   \n",
       "             M            138       279          33.09          66.91   \n",
       "E            F             94       299          23.92          76.08   \n",
       "             M             53       138          27.75          72.25   \n",
       "F            F             25       316           7.33          92.67   \n",
       "             M             22       351           5.90          94.10   \n",
       "\n",
       "ADMISSAO             TOTAL_CANDIDATOS  \n",
       "DEPARTAMENTO GENERO                    \n",
       "A            F                    108  \n",
       "             M                   1138  \n",
       "B            F                     25  \n",
       "             M                    560  \n",
       "C            F                    593  \n",
       "             M                    325  \n",
       "D            F                    375  \n",
       "             M                    417  \n",
       "E            F                    393  \n",
       "             M                    191  \n",
       "F            F                    341  \n",
       "             M                    373  "
      ]
     },
     "execution_count": 25,
     "metadata": {},
     "output_type": "execute_result"
    }
   ],
   "source": [
    "df_tx_admissao = (\n",
    "    berkeley_preprocessado.groupby(['DEPARTAMENTO', 'GENERO', 'ADMISSAO'])\n",
    "    .size()\n",
    "    .unstack(fill_value=0))\n",
    "\n",
    "\n",
    "df_tx_admissao['TAXA_ADMISSAO'] = (\n",
    "    df_tx_admissao['Accepted'] / (df_tx_admissao['Accepted'] + df_tx_admissao['Rejected']) * 100\n",
    ").round(2)\n",
    "\n",
    "df_tx_admissao['TAXA_REJEICAO'] = (100 - df_tx_admissao['TAXA_ADMISSAO']).round(2)\n",
    "\n",
    "\n",
    "df_tx_admissao['TOTAL_CANDIDATOS'] = df_tx_admissao['Accepted'] + df_tx_admissao['Rejected']\n",
    "\n",
    "df_tx_admissao"
   ]
  },
  {
   "cell_type": "code",
   "execution_count": 26,
   "metadata": {
    "colab": {
     "base_uri": "https://localhost:8080/",
     "height": 175
    },
    "executionInfo": {
     "elapsed": 326,
     "status": "ok",
     "timestamp": 1735860641523,
     "user": {
      "displayName": "WAGNER DA COSTA OLIVEIRA",
      "userId": "15827076417170349698"
     },
     "user_tz": 180
    },
    "id": "54Y4OCTvxI9j",
    "outputId": "15a4563f-82dd-4045-f2ab-56e6fd21296a"
   },
   "outputs": [
    {
     "data": {
      "text/html": [
       "<div>\n",
       "<style scoped>\n",
       "    .dataframe tbody tr th:only-of-type {\n",
       "        vertical-align: middle;\n",
       "    }\n",
       "\n",
       "    .dataframe tbody tr th {\n",
       "        vertical-align: top;\n",
       "    }\n",
       "\n",
       "    .dataframe thead th {\n",
       "        text-align: right;\n",
       "    }\n",
       "</style>\n",
       "<table border=\"1\" class=\"dataframe\">\n",
       "  <thead>\n",
       "    <tr style=\"text-align: right;\">\n",
       "      <th>ADMISSAO</th>\n",
       "      <th>TOTAL_CANDIDATOS</th>\n",
       "      <th>TAXA_ADMISSAO</th>\n",
       "      <th>TAXA_REJEICAO</th>\n",
       "    </tr>\n",
       "    <tr>\n",
       "      <th>ADMISSAO</th>\n",
       "      <th></th>\n",
       "      <th></th>\n",
       "      <th></th>\n",
       "    </tr>\n",
       "  </thead>\n",
       "  <tbody>\n",
       "    <tr>\n",
       "      <th>TOTAL_CANDIDATOS</th>\n",
       "      <td>1.000000</td>\n",
       "      <td>0.119162</td>\n",
       "      <td>-0.119162</td>\n",
       "    </tr>\n",
       "    <tr>\n",
       "      <th>TAXA_ADMISSAO</th>\n",
       "      <td>0.119162</td>\n",
       "      <td>1.000000</td>\n",
       "      <td>-1.000000</td>\n",
       "    </tr>\n",
       "    <tr>\n",
       "      <th>TAXA_REJEICAO</th>\n",
       "      <td>-0.119162</td>\n",
       "      <td>-1.000000</td>\n",
       "      <td>1.000000</td>\n",
       "    </tr>\n",
       "  </tbody>\n",
       "</table>\n",
       "</div>"
      ],
      "text/plain": [
       "ADMISSAO          TOTAL_CANDIDATOS  TAXA_ADMISSAO  TAXA_REJEICAO\n",
       "ADMISSAO                                                        \n",
       "TOTAL_CANDIDATOS          1.000000       0.119162      -0.119162\n",
       "TAXA_ADMISSAO             0.119162       1.000000      -1.000000\n",
       "TAXA_REJEICAO            -0.119162      -1.000000       1.000000"
      ]
     },
     "execution_count": 26,
     "metadata": {},
     "output_type": "execute_result"
    }
   ],
   "source": [
    "relacao = df_tx_admissao[['TOTAL_CANDIDATOS', 'TAXA_ADMISSAO', 'TAXA_REJEICAO' ]].corr()\n",
    "\n",
    "relacao"
   ]
  },
  {
   "cell_type": "markdown",
   "metadata": {
    "id": "W_beGmBHxI9j"
   },
   "source": [
    "### 9. Comparar as taxas de admissão agregadas para homens e mulheres."
   ]
  },
  {
   "cell_type": "code",
   "execution_count": 27,
   "metadata": {
    "colab": {
     "base_uri": "https://localhost:8080/",
     "height": 143
    },
    "executionInfo": {
     "elapsed": 16,
     "status": "ok",
     "timestamp": 1735860641523,
     "user": {
      "displayName": "WAGNER DA COSTA OLIVEIRA",
      "userId": "15827076417170349698"
     },
     "user_tz": 180
    },
    "id": "NRHaktBJxI9k",
    "outputId": "53c8ebc6-22b7-4ebe-86dd-c5717458b1ae"
   },
   "outputs": [
    {
     "data": {
      "text/html": [
       "<div>\n",
       "<style scoped>\n",
       "    .dataframe tbody tr th:only-of-type {\n",
       "        vertical-align: middle;\n",
       "    }\n",
       "\n",
       "    .dataframe tbody tr th {\n",
       "        vertical-align: top;\n",
       "    }\n",
       "\n",
       "    .dataframe thead th {\n",
       "        text-align: right;\n",
       "    }\n",
       "</style>\n",
       "<table border=\"1\" class=\"dataframe\">\n",
       "  <thead>\n",
       "    <tr style=\"text-align: right;\">\n",
       "      <th>GENERO</th>\n",
       "      <th>F</th>\n",
       "      <th>M</th>\n",
       "    </tr>\n",
       "    <tr>\n",
       "      <th>ADMISSAO</th>\n",
       "      <th></th>\n",
       "      <th></th>\n",
       "    </tr>\n",
       "  </thead>\n",
       "  <tbody>\n",
       "    <tr>\n",
       "      <th>Accepted</th>\n",
       "      <td>557</td>\n",
       "      <td>1511</td>\n",
       "    </tr>\n",
       "    <tr>\n",
       "      <th>Rejected</th>\n",
       "      <td>1278</td>\n",
       "      <td>1493</td>\n",
       "    </tr>\n",
       "  </tbody>\n",
       "</table>\n",
       "</div>"
      ],
      "text/plain": [
       "GENERO       F     M\n",
       "ADMISSAO            \n",
       "Accepted   557  1511\n",
       "Rejected  1278  1493"
      ]
     },
     "execution_count": 27,
     "metadata": {},
     "output_type": "execute_result"
    }
   ],
   "source": [
    "df_tx_admissao_agregadas = (\n",
    "    berkeley_preprocessado.groupby([ 'ADMISSAO', 'GENERO' ])\n",
    "    .size()\n",
    "    .unstack(fill_value=0))\n",
    "\n",
    "df_tx_admissao_agregadas\n"
   ]
  },
  {
   "cell_type": "code",
   "execution_count": 28,
   "metadata": {
    "colab": {
     "base_uri": "https://localhost:8080/",
     "height": 241
    },
    "executionInfo": {
     "elapsed": 14,
     "status": "ok",
     "timestamp": 1735860641523,
     "user": {
      "displayName": "WAGNER DA COSTA OLIVEIRA",
      "userId": "15827076417170349698"
     },
     "user_tz": 180
    },
    "id": "sC5IZZBbxI9k",
    "outputId": "b95903ac-1b75-47b1-818d-ecb5288a2890"
   },
   "outputs": [
    {
     "data": {
      "text/plain": [
       "GENERO  ADMISSAO\n",
       "F       Accepted     557\n",
       "        Rejected    1278\n",
       "M       Accepted    1511\n",
       "        Rejected    1493\n",
       "dtype: int64"
      ]
     },
     "execution_count": 28,
     "metadata": {},
     "output_type": "execute_result"
    }
   ],
   "source": [
    "df_tx_admissao_agregadas = df_tx_admissao_agregadas.unstack(level=0)\n",
    "df_tx_admissao_agregadas"
   ]
  },
  {
   "cell_type": "code",
   "execution_count": 29,
   "metadata": {
    "colab": {
     "base_uri": "https://localhost:8080/",
     "height": 545
    },
    "executionInfo": {
     "elapsed": 447,
     "status": "ok",
     "timestamp": 1735860641958,
     "user": {
      "displayName": "WAGNER DA COSTA OLIVEIRA",
      "userId": "15827076417170349698"
     },
     "user_tz": 180
    },
    "id": "tIqBOCqKxI9k",
    "outputId": "411e45d8-d3f4-46fe-891c-e5c619bc0d2f"
   },
   "outputs": [
    {
     "data": {
      "text/plain": [
       "Text(0, 0.5, 'Taxa Agregada (%)')"
      ]
     },
     "execution_count": 29,
     "metadata": {},
     "output_type": "execute_result"
    },
    {
     "data": {
      "image/png": "[encoded data removed]",
      "text/plain": [
       "<Figure size 1400x500 with 1 Axes>"
      ]
     },
     "metadata": {},
     "output_type": "display_data"
    }
   ],
   "source": [
    "fig, ax = plt.subplots(layout='constrained', figsize=(14,5))\n",
    "\n",
    "df_tx_admissao_agregadas.plot(kind='bar', rot=True, ax=ax)\n",
    "ax.set_ylabel(\"Taxa Agregada (%)\")"
   ]
  },
  {
   "cell_type": "markdown",
   "metadata": {
    "id": "NYrskPrFxI9l"
   },
   "source": [
    "### 10. Analisar como as taxas de admissão de homens e mulheres variam entre os departamentos."
   ]
  },
  {
   "cell_type": "code",
   "execution_count": 30,
   "metadata": {
    "colab": {
     "base_uri": "https://localhost:8080/",
     "height": 269
    },
    "executionInfo": {
     "elapsed": 13,
     "status": "ok",
     "timestamp": 1735860641958,
     "user": {
      "displayName": "WAGNER DA COSTA OLIVEIRA",
      "userId": "15827076417170349698"
     },
     "user_tz": 180
    },
    "id": "7fPIlNMBxI9l",
    "outputId": "9c414a1c-df70-4370-87d1-9d68cc65303b"
   },
   "outputs": [
    {
     "data": {
      "text/html": [
       "<div>\n",
       "<style scoped>\n",
       "    .dataframe tbody tr th:only-of-type {\n",
       "        vertical-align: middle;\n",
       "    }\n",
       "\n",
       "    .dataframe tbody tr th {\n",
       "        vertical-align: top;\n",
       "    }\n",
       "\n",
       "    .dataframe thead th {\n",
       "        text-align: right;\n",
       "    }\n",
       "</style>\n",
       "<table border=\"1\" class=\"dataframe\">\n",
       "  <thead>\n",
       "    <tr style=\"text-align: right;\">\n",
       "      <th>GENERO</th>\n",
       "      <th>F</th>\n",
       "      <th>M</th>\n",
       "      <th>VARIACAO</th>\n",
       "    </tr>\n",
       "    <tr>\n",
       "      <th>DEPARTAMENTO</th>\n",
       "      <th></th>\n",
       "      <th></th>\n",
       "      <th></th>\n",
       "    </tr>\n",
       "  </thead>\n",
       "  <tbody>\n",
       "    <tr>\n",
       "      <th>A</th>\n",
       "      <td>89</td>\n",
       "      <td>825</td>\n",
       "      <td>-80.525164</td>\n",
       "    </tr>\n",
       "    <tr>\n",
       "      <th>B</th>\n",
       "      <td>17</td>\n",
       "      <td>353</td>\n",
       "      <td>-90.810811</td>\n",
       "    </tr>\n",
       "    <tr>\n",
       "      <th>C</th>\n",
       "      <td>201</td>\n",
       "      <td>120</td>\n",
       "      <td>25.233645</td>\n",
       "    </tr>\n",
       "    <tr>\n",
       "      <th>D</th>\n",
       "      <td>131</td>\n",
       "      <td>138</td>\n",
       "      <td>-2.602230</td>\n",
       "    </tr>\n",
       "    <tr>\n",
       "      <th>E</th>\n",
       "      <td>94</td>\n",
       "      <td>53</td>\n",
       "      <td>27.891156</td>\n",
       "    </tr>\n",
       "    <tr>\n",
       "      <th>F</th>\n",
       "      <td>25</td>\n",
       "      <td>22</td>\n",
       "      <td>6.382979</td>\n",
       "    </tr>\n",
       "  </tbody>\n",
       "</table>\n",
       "</div>"
      ],
      "text/plain": [
       "GENERO          F    M   VARIACAO\n",
       "DEPARTAMENTO                     \n",
       "A              89  825 -80.525164\n",
       "B              17  353 -90.810811\n",
       "C             201  120  25.233645\n",
       "D             131  138  -2.602230\n",
       "E              94   53  27.891156\n",
       "F              25   22   6.382979"
      ]
     },
     "execution_count": 30,
     "metadata": {},
     "output_type": "execute_result"
    }
   ],
   "source": [
    "condicao = berkeley_preprocessado['ADMISSAO'] == 'Accepted'\n",
    "\n",
    "df_tx_admissao_genero =  (\n",
    "    berkeley_preprocessado.loc[condicao,].groupby(['DEPARTAMENTO', 'GENERO'])\n",
    "    .size()\n",
    "    .unstack(fill_value=0)\n",
    "    )\n",
    "\n",
    "df_tx_admissao_genero['VARIACAO'] = (\n",
    "    (df_tx_admissao_genero['F'] - df_tx_admissao_genero['M']) / (df_tx_admissao_genero['F'] + df_tx_admissao_genero['M']) * 100\n",
    ")\n",
    "\n",
    "df_tx_admissao_genero"
   ]
  },
  {
   "cell_type": "code",
   "execution_count": 31,
   "metadata": {
    "colab": {
     "base_uri": "https://localhost:8080/",
     "height": 528
    },
    "executionInfo": {
     "elapsed": 444,
     "status": "ok",
     "timestamp": 1735860642393,
     "user": {
      "displayName": "WAGNER DA COSTA OLIVEIRA",
      "userId": "15827076417170349698"
     },
     "user_tz": 180
    },
    "id": "ztRyS3z1xI9m",
    "outputId": "4ea0beee-af88-4fcc-a543-0bf690b45ca7"
   },
   "outputs": [
    {
     "data": {
      "image/png": "[encoded data removed]",
      "text/plain": [
       "<Figure size 1400x500 with 2 Axes>"
      ]
     },
     "metadata": {},
     "output_type": "display_data"
    }
   ],
   "source": [
    "fig, (ax, ax1) = plt.subplots(ncols=2, layout='constrained', figsize=(14,5))\n",
    "\n",
    "df_tx_admissao_genero['VARIACAO'].plot(kind='line', rot=True, ax=ax)\n",
    "df_tx_admissao_genero['VARIACAO'].plot(kind='bar', rot=True, ax=ax1)\n",
    "ax.set_ylabel(\"Variação (%)\")\n",
    "ax.grid()\n",
    "ax1.grid()"
   ]
  },
  {
   "cell_type": "markdown",
   "metadata": {
    "id": "Cq8J-bdzxI9o"
   },
   "source": [
    "### 11. Identificar quais departamentos têm as maiores e menores taxas de rejeição."
   ]
  },
  {
   "cell_type": "code",
   "execution_count": 32,
   "metadata": {
    "colab": {
     "base_uri": "https://localhost:8080/",
     "height": 269
    },
    "executionInfo": {
     "elapsed": 321,
     "status": "ok",
     "timestamp": 1735860642710,
     "user": {
      "displayName": "WAGNER DA COSTA OLIVEIRA",
      "userId": "15827076417170349698"
     },
     "user_tz": 180
    },
    "id": "h0ixCGKaxI9u",
    "outputId": "61feefae-752b-4ee3-a49f-f2b797d43bbd"
   },
   "outputs": [
    {
     "data": {
      "text/html": [
       "<div>\n",
       "<style scoped>\n",
       "    .dataframe tbody tr th:only-of-type {\n",
       "        vertical-align: middle;\n",
       "    }\n",
       "\n",
       "    .dataframe tbody tr th {\n",
       "        vertical-align: top;\n",
       "    }\n",
       "\n",
       "    .dataframe thead th {\n",
       "        text-align: right;\n",
       "    }\n",
       "</style>\n",
       "<table border=\"1\" class=\"dataframe\">\n",
       "  <thead>\n",
       "    <tr style=\"text-align: right;\">\n",
       "      <th>GENERO</th>\n",
       "      <th>F</th>\n",
       "      <th>M</th>\n",
       "      <th>VARIACAO</th>\n",
       "    </tr>\n",
       "    <tr>\n",
       "      <th>DEPARTAMENTO</th>\n",
       "      <th></th>\n",
       "      <th></th>\n",
       "      <th></th>\n",
       "    </tr>\n",
       "  </thead>\n",
       "  <tbody>\n",
       "    <tr>\n",
       "      <th>A</th>\n",
       "      <td>19</td>\n",
       "      <td>313</td>\n",
       "      <td>-88.554217</td>\n",
       "    </tr>\n",
       "    <tr>\n",
       "      <th>B</th>\n",
       "      <td>8</td>\n",
       "      <td>207</td>\n",
       "      <td>-92.558140</td>\n",
       "    </tr>\n",
       "    <tr>\n",
       "      <th>C</th>\n",
       "      <td>392</td>\n",
       "      <td>205</td>\n",
       "      <td>31.323283</td>\n",
       "    </tr>\n",
       "    <tr>\n",
       "      <th>D</th>\n",
       "      <td>244</td>\n",
       "      <td>279</td>\n",
       "      <td>-6.692161</td>\n",
       "    </tr>\n",
       "    <tr>\n",
       "      <th>E</th>\n",
       "      <td>299</td>\n",
       "      <td>138</td>\n",
       "      <td>36.842105</td>\n",
       "    </tr>\n",
       "    <tr>\n",
       "      <th>F</th>\n",
       "      <td>316</td>\n",
       "      <td>351</td>\n",
       "      <td>-5.247376</td>\n",
       "    </tr>\n",
       "  </tbody>\n",
       "</table>\n",
       "</div>"
      ],
      "text/plain": [
       "GENERO          F    M   VARIACAO\n",
       "DEPARTAMENTO                     \n",
       "A              19  313 -88.554217\n",
       "B               8  207 -92.558140\n",
       "C             392  205  31.323283\n",
       "D             244  279  -6.692161\n",
       "E             299  138  36.842105\n",
       "F             316  351  -5.247376"
      ]
     },
     "execution_count": 32,
     "metadata": {},
     "output_type": "execute_result"
    }
   ],
   "source": [
    "condicao = berkeley_preprocessado['ADMISSAO'] == 'Rejected'\n",
    "\n",
    "df_tx_rejeicao = (\n",
    "    berkeley_preprocessado.loc[condicao,].groupby(['DEPARTAMENTO', 'GENERO'])\n",
    "    .size()\n",
    "    .unstack(fill_value=0)\n",
    "    )\n",
    "\n",
    "df_tx_rejeicao['VARIACAO'] = (\n",
    "    (df_tx_rejeicao['F'] - df_tx_rejeicao['M']) / (df_tx_rejeicao['F'] + df_tx_rejeicao['M']) * 100\n",
    ")\n",
    "\n",
    "df_tx_rejeicao"
   ]
  },
  {
   "cell_type": "code",
   "execution_count": 33,
   "metadata": {
    "colab": {
     "base_uri": "https://localhost:8080/",
     "height": 528
    },
    "executionInfo": {
     "elapsed": 589,
     "status": "ok",
     "timestamp": 1735860643294,
     "user": {
      "displayName": "WAGNER DA COSTA OLIVEIRA",
      "userId": "15827076417170349698"
     },
     "user_tz": 180
    },
    "id": "XaIfiG0Cbh2B",
    "outputId": "6ca94bf8-abc4-4c8d-e67e-289e00779db2"
   },
   "outputs": [
    {
     "data": {
      "image/png": "[encoded data removed]",
      "text/plain": [
       "<Figure size 1400x500 with 2 Axes>"
      ]
     },
     "metadata": {},
     "output_type": "display_data"
    }
   ],
   "source": [
    "fig, (ax, ax1) = plt.subplots(ncols=2, layout='constrained', figsize=(14,5))\n",
    "\n",
    "df_tx_rejeicao['VARIACAO'].plot(kind='line', rot=True, ax=ax)\n",
    "df_tx_rejeicao['VARIACAO'].plot(kind='bar', rot=True, ax=ax1)\n",
    "ax.set_ylabel(\"Variação (%)\")\n",
    "ax.grid()\n",
    "ax1.grid()"
   ]
  },
  {
   "cell_type": "markdown",
   "metadata": {
    "id": "EZB5uMs9xI9v"
   },
   "source": [
    "### 12. Avaliar a proporção de inscrições feitas por homens e mulheres nos departamentos mais e menos competitivos."
   ]
  },
  {
   "cell_type": "code",
   "execution_count": 34,
   "metadata": {
    "colab": {
     "base_uri": "https://localhost:8080/",
     "height": 300
    },
    "executionInfo": {
     "elapsed": 10,
     "status": "ok",
     "timestamp": 1735860643295,
     "user": {
      "displayName": "WAGNER DA COSTA OLIVEIRA",
      "userId": "15827076417170349698"
     },
     "user_tz": 180
    },
    "id": "KYcxocq1xI9v",
    "outputId": "7cb944a1-39ee-4223-d28e-996fefd8381f"
   },
   "outputs": [
    {
     "data": {
      "text/html": [
       "<div>\n",
       "<style scoped>\n",
       "    .dataframe tbody tr th:only-of-type {\n",
       "        vertical-align: middle;\n",
       "    }\n",
       "\n",
       "    .dataframe tbody tr th {\n",
       "        vertical-align: top;\n",
       "    }\n",
       "\n",
       "    .dataframe thead tr th {\n",
       "        text-align: left;\n",
       "    }\n",
       "\n",
       "    .dataframe thead tr:last-of-type th {\n",
       "        text-align: right;\n",
       "    }\n",
       "</style>\n",
       "<table border=\"1\" class=\"dataframe\">\n",
       "  <thead>\n",
       "    <tr>\n",
       "      <th></th>\n",
       "      <th></th>\n",
       "      <th colspan=\"2\" halign=\"left\">INSCRICOES</th>\n",
       "    </tr>\n",
       "    <tr>\n",
       "      <th></th>\n",
       "      <th>GENERO</th>\n",
       "      <th>F</th>\n",
       "      <th>M</th>\n",
       "    </tr>\n",
       "    <tr>\n",
       "      <th>CONCORRENCIA</th>\n",
       "      <th>DEPARTAMENTO</th>\n",
       "      <th></th>\n",
       "      <th></th>\n",
       "    </tr>\n",
       "  </thead>\n",
       "  <tbody>\n",
       "    <tr>\n",
       "      <th>1.36</th>\n",
       "      <th>A</th>\n",
       "      <td>108</td>\n",
       "      <td>1138</td>\n",
       "    </tr>\n",
       "    <tr>\n",
       "      <th>1.58</th>\n",
       "      <th>B</th>\n",
       "      <td>25</td>\n",
       "      <td>560</td>\n",
       "    </tr>\n",
       "    <tr>\n",
       "      <th>2.86</th>\n",
       "      <th>C</th>\n",
       "      <td>593</td>\n",
       "      <td>325</td>\n",
       "    </tr>\n",
       "    <tr>\n",
       "      <th>2.94</th>\n",
       "      <th>D</th>\n",
       "      <td>375</td>\n",
       "      <td>417</td>\n",
       "    </tr>\n",
       "    <tr>\n",
       "      <th>3.97</th>\n",
       "      <th>E</th>\n",
       "      <td>393</td>\n",
       "      <td>191</td>\n",
       "    </tr>\n",
       "    <tr>\n",
       "      <th>15.19</th>\n",
       "      <th>F</th>\n",
       "      <td>341</td>\n",
       "      <td>373</td>\n",
       "    </tr>\n",
       "  </tbody>\n",
       "</table>\n",
       "</div>"
      ],
      "text/plain": [
       "                          INSCRICOES      \n",
       "GENERO                             F     M\n",
       "CONCORRENCIA DEPARTAMENTO                 \n",
       "1.36         A                   108  1138\n",
       "1.58         B                    25   560\n",
       "2.86         C                   593   325\n",
       "2.94         D                   375   417\n",
       "3.97         E                   393   191\n",
       "15.19        F                   341   373"
      ]
     },
     "execution_count": 34,
     "metadata": {},
     "output_type": "execute_result"
    }
   ],
   "source": [
    "df_porporcao_gemero_concorencia = pd.DataFrame(\n",
    "    berkeley_preprocessado.groupby(['CONCORRENCIA', 'DEPARTAMENTO', 'GENERO' ])\n",
    "    .size()\n",
    ").rename(columns={0:'INSCRICOES'})\n",
    "\n",
    "df_porporcao_gemero_concorencia = df_porporcao_gemero_concorencia.unstack(\n",
    "    fill_value=0\n",
    ")\n",
    "\n",
    "df_porporcao_gemero_concorencia\n"
   ]
  },
  {
   "cell_type": "code",
   "execution_count": 35,
   "metadata": {
    "colab": {
     "base_uri": "https://localhost:8080/",
     "height": 525
    },
    "executionInfo": {
     "elapsed": 450,
     "status": "ok",
     "timestamp": 1735860643737,
     "user": {
      "displayName": "WAGNER DA COSTA OLIVEIRA",
      "userId": "15827076417170349698"
     },
     "user_tz": 180
    },
    "id": "GPKd8CYCxI9v",
    "outputId": "3f38eee5-187b-441f-d12b-11c55f7dbbcd"
   },
   "outputs": [
    {
     "data": {
      "text/plain": [
       "Text(0, 0.5, 'Taxa (%)')"
      ]
     },
     "execution_count": 35,
     "metadata": {},
     "output_type": "execute_result"
    },
    {
     "data": {
      "image/png": "[encoded data removed]",
      "text/plain": [
       "<Figure size 640x480 with 1 Axes>"
      ]
     },
     "metadata": {},
     "output_type": "display_data"
    }
   ],
   "source": [
    "fig, ax = plt.subplots(layout='constrained')\n",
    "\n",
    "df_porporcao_gemero_concorencia.plot(kind='bar', rot=True, ax=ax)\n",
    "ax.set_ylabel(\"Taxa (%)\")"
   ]
  },
  {
   "cell_type": "markdown",
   "metadata": {
    "id": "CW1FJthNxI9v"
   },
   "source": [
    "### 13. Comparar as taxas de admissão gerais com as taxas de admissão por departamento."
   ]
  },
  {
   "cell_type": "code",
   "execution_count": 36,
   "metadata": {
    "colab": {
     "base_uri": "https://localhost:8080/",
     "height": 269
    },
    "executionInfo": {
     "elapsed": 10,
     "status": "ok",
     "timestamp": 1735860643737,
     "user": {
      "displayName": "WAGNER DA COSTA OLIVEIRA",
      "userId": "15827076417170349698"
     },
     "user_tz": 180
    },
    "id": "updtINOGxI9v",
    "outputId": "df85beff-f9c2-4b9c-ffe7-37d0df7180d4"
   },
   "outputs": [
    {
     "data": {
      "text/html": [
       "<div>\n",
       "<style scoped>\n",
       "    .dataframe tbody tr th:only-of-type {\n",
       "        vertical-align: middle;\n",
       "    }\n",
       "\n",
       "    .dataframe tbody tr th {\n",
       "        vertical-align: top;\n",
       "    }\n",
       "\n",
       "    .dataframe thead th {\n",
       "        text-align: right;\n",
       "    }\n",
       "</style>\n",
       "<table border=\"1\" class=\"dataframe\">\n",
       "  <thead>\n",
       "    <tr style=\"text-align: right;\">\n",
       "      <th></th>\n",
       "      <th>ADMISSAO</th>\n",
       "      <th>TAXA_GERAL</th>\n",
       "    </tr>\n",
       "    <tr>\n",
       "      <th>DEPARTAMENTO</th>\n",
       "      <th></th>\n",
       "      <th></th>\n",
       "    </tr>\n",
       "  </thead>\n",
       "  <tbody>\n",
       "    <tr>\n",
       "      <th>A</th>\n",
       "      <td>914</td>\n",
       "      <td>44.20</td>\n",
       "    </tr>\n",
       "    <tr>\n",
       "      <th>B</th>\n",
       "      <td>370</td>\n",
       "      <td>17.89</td>\n",
       "    </tr>\n",
       "    <tr>\n",
       "      <th>C</th>\n",
       "      <td>321</td>\n",
       "      <td>15.52</td>\n",
       "    </tr>\n",
       "    <tr>\n",
       "      <th>D</th>\n",
       "      <td>269</td>\n",
       "      <td>13.01</td>\n",
       "    </tr>\n",
       "    <tr>\n",
       "      <th>E</th>\n",
       "      <td>147</td>\n",
       "      <td>7.11</td>\n",
       "    </tr>\n",
       "    <tr>\n",
       "      <th>F</th>\n",
       "      <td>47</td>\n",
       "      <td>2.27</td>\n",
       "    </tr>\n",
       "  </tbody>\n",
       "</table>\n",
       "</div>"
      ],
      "text/plain": [
       "              ADMISSAO  TAXA_GERAL\n",
       "DEPARTAMENTO                      \n",
       "A                  914       44.20\n",
       "B                  370       17.89\n",
       "C                  321       15.52\n",
       "D                  269       13.01\n",
       "E                  147        7.11\n",
       "F                   47        2.27"
      ]
     },
     "execution_count": 36,
     "metadata": {},
     "output_type": "execute_result"
    }
   ],
   "source": [
    "condicao = berkeley_preprocessado['ADMISSAO'] == 'Accepted'\n",
    "\n",
    "admissao_total = berkeley_preprocessado.loc[condicao,]['ADMISSAO'].count()\n",
    "\n",
    "df_tx_admissao_geral_por_departamento =  pd.DataFrame(\n",
    "    berkeley_preprocessado.loc[condicao,].groupby(['DEPARTAMENTO'])\n",
    "    .size()\n",
    "    ).rename(columns={0:'ADMISSAO'})\n",
    "\n",
    "\n",
    "df_tx_admissao_geral_por_departamento['TAXA_GERAL'] = (\n",
    "    df_tx_admissao_geral_por_departamento['ADMISSAO'] / admissao_total * 100\n",
    ").round(2)\n",
    "\n",
    "df_tx_admissao_geral_por_departamento"
   ]
  },
  {
   "cell_type": "code",
   "execution_count": 37,
   "metadata": {
    "colab": {
     "base_uri": "https://localhost:8080/",
     "height": 525
    },
    "executionInfo": {
     "elapsed": 450,
     "status": "ok",
     "timestamp": 1735860644179,
     "user": {
      "displayName": "WAGNER DA COSTA OLIVEIRA",
      "userId": "15827076417170349698"
     },
     "user_tz": 180
    },
    "id": "magB72Qtwce-",
    "outputId": "dbb87520-2e75-4ce0-9749-88c260c089cd"
   },
   "outputs": [
    {
     "data": {
      "text/plain": [
       "Text(0, 0.5, 'Taxa (%)')"
      ]
     },
     "execution_count": 37,
     "metadata": {},
     "output_type": "execute_result"
    },
    {
     "data": {
      "image/png": "[encoded data removed]",
      "text/plain": [
       "<Figure size 640x480 with 1 Axes>"
      ]
     },
     "metadata": {},
     "output_type": "display_data"
    }
   ],
   "source": [
    "fig, ax = plt.subplots(layout='constrained')\n",
    "\n",
    "df_tx_admissao_geral_por_departamento['TAXA_GERAL'].plot(kind='bar', rot=True, ax=ax)\n",
    "ax.set_ylabel(\"Taxa (%)\")"
   ]
  },
  {
   "cell_type": "markdown",
   "metadata": {
    "id": "Z76Z30olxI9w"
   },
   "source": [
    "### 14. Verificar se existem preferências de departamentos por gênero que podem influenciar os resultados observados."
   ]
  },
  {
   "cell_type": "code",
   "execution_count": 38,
   "metadata": {
    "colab": {
     "base_uri": "https://localhost:8080/",
     "height": 545
    },
    "executionInfo": {
     "elapsed": 565,
     "status": "ok",
     "timestamp": 1735860644738,
     "user": {
      "displayName": "WAGNER DA COSTA OLIVEIRA",
      "userId": "15827076417170349698"
     },
     "user_tz": 180
    },
    "id": "_qBMoD2LxI9w",
    "outputId": "2e6d831b-16e1-44f8-e73d-eb3e0eb6095f"
   },
   "outputs": [
    {
     "data": {
      "text/plain": [
       "Text(0, 0.5, 'Taxa (%)')"
      ]
     },
     "execution_count": 38,
     "metadata": {},
     "output_type": "execute_result"
    },
    {
     "data": {
      "image/png": "[encoded data removed]",
      "text/plain": [
       "<Figure size 1400x500 with 2 Axes>"
      ]
     },
     "metadata": {},
     "output_type": "display_data"
    }
   ],
   "source": [
    "fig, (ax, ax1) = plt.subplots(ncols=2, layout='constrained', figsize=(14,5))\n",
    "\n",
    "df_porporcao_gemero_concorencia['INSCRICOES'].plot(kind='bar', rot=True, ax=ax)\n",
    "ax.set_ylabel(\"Taxa (%)\")\n",
    "\n",
    "df_porporcao_gemero_concorencia['INSCRICOES'].plot(kind='line', rot=True, ax=ax1)\n",
    "ax1.set_ylabel(\"Taxa (%)\")\n"
   ]
  }
 ],
 "metadata": {
  "colab": {
   "provenance": []
  },
  "kernelspec": {
   "display_name": "t2",
   "language": "python",
   "name": "python3"
  },
  "language_info": {
   "codemirror_mode": {
    "name": "ipython",
    "version": 3
   },
   "file_extension": ".py",
   "mimetype": "text/x-python",
   "name": "python",
   "nbconvert_exporter": "python",
   "pygments_lexer": "ipython3",
   "version": "3.13.7"
  }
 },
 "nbformat": 4,
 "nbformat_minor": 0
}
