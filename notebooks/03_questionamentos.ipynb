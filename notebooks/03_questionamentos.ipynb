{
  "cells": [
    {
      "cell_type": "markdown",
      "metadata": {
        "id": "VC71UrIN43ov"
      },
      "source": [
        "## 1. Há departamentos ou gêneros que apresentam taxas de admissão ou rejeição desproporcionalmente altas ou baixas?\n",
        "\n",
        "* Sim, seguem as seguintes análises para validar.\n",
        "Os departamentos A e B mostram a maior desporpocinalidade onde os homens apresentam a maior taxa de admissão e também de rejeição, sendo que a maior variação na admissão chega a 90% e na rejeição 92% no departamento B.\n",
        "\n",
        "* Nos departamentos D e F apresentam as menores variações, sendo o gênero masculino com a menor desproporcionalidade. No departamento D, a variação de admissão chega a 2%, já variação da rejeição é de 5% no departamento F.\n"
      ]
    },
    {
      "cell_type": "markdown",
      "metadata": {
        "id": "cdnnx1XG43ow"
      },
      "source": [
        "## 2. Há equilíbrio na distribuição de gêneros nos departamentos?\n",
        "\n",
        "* Não há um equilibrio quando a análise é agregada, existe uma superioridade para o gênero masculino com uma diferença real de 24.16 %, levando em relação deferença entre o total de homens o total de mulheres nos departamentos.\n",
        "\n",
        "* Quando a análise é desagregada, a relação de distribuição entre os departamentos se inverte, ao levar em consideração as taxas de admissão.  "
      ]
    },
    {
      "cell_type": "markdown",
      "metadata": {
        "id": "vSi7svJG43ox"
      },
      "source": [
        "## 3. Como os padrões de admissão diferem entre os departamentos e gêneros?\n",
        "\n",
        "* Eles diferem de forma inversamente proporcional. Nos cursos A, B o gênero masculino é o mais aceito o feminino é o mais rejeitado. Nos cursos C, E, F o gênero feminino é mais aceito e o masculino mais rejeitado."
      ]
    },
    {
      "cell_type": "markdown",
      "metadata": {
        "id": "MT5w3f_L43ox"
      },
      "source": [
        "## 4. Existe um viés aparente contra algum gênero?\n",
        "\n",
        "* Há um viés contra o gênero feminino, sugerindo que os gênero oposto é melhor avaliado pela quantidade de incrições, sem levar em consideração a análise desagregada por admissão nos departamentos.\n"
      ]
    },
    {
      "cell_type": "markdown",
      "metadata": {
        "id": "txVBHylQ43oy"
      },
      "source": [
        "## 5. Há departamentos mais favoráveis a um gênero específico?\n",
        "\n",
        "Sim.\n",
        "\n",
        "* Os departamentos A, B são mais favoráveis ao gênero masculino.\n",
        "\n",
        "* Os departamentos C, E, F são mais favoráveis ao gênero feminino.\n",
        "\n",
        "* O departamento D tem uma diferença em torno de 2% para o gênero masculino favorecendo uma igualdade."
      ]
    },
    {
      "cell_type": "markdown",
      "metadata": {
        "id": "89KLzE1C43oy"
      },
      "source": [
        "## 6. Quais departamentos são mais competitivos e como isso afeta os gêneros?\n",
        "\n",
        "* Os departamentos C, D, E, F são mais competitivos, contudo o F é o mais competitivo. A presença do gênero feminino é maior nos cursos C, E, F onde a competição é mais acirrada.\n",
        "\n",
        "* Nos departamentos A e B há esmagadora presença do gênero masculino onde a competitividade é menor e o departamento A tem a menor competitividade."
      ]
    },
    {
      "cell_type": "markdown",
      "metadata": {
        "id": "V8u3qH8f43oy"
      },
      "source": [
        "## 7. Como as conclusões mudam ao desagregar os dados por departamento?\n",
        "\n",
        "* Elas evidenciam o grau de competitividade, e tamanho do esforço para ser aceito(a) em determinados departamentos, e também muda o viés de que o gênero masculino é melhor pela quantidade de inscrições ser maior. O desagregamento dos dados mostram que o gênero feminino é mais aceito em cursos cuja competição é mais acirrada."
      ]
    },
    {
      "cell_type": "markdown",
      "metadata": {
        "id": "xAee2R_t43oz"
      },
      "source": [
        "## 8. Justifique o viés de gênero nas admissões de pós-graduação de Berkeley.\n",
        "\n",
        "* Na análise inicial sugerisse um viés contra as mulheres, a análise dos dados mais a fundo mostrou que o sistema de admissão em quase todas as formas é justo, e foi descoberto um pequeno viés favoravel as mulheres em linhas gerais.\n"
      ]
    }
  ],
  "metadata": {
    "kernelspec": {
      "display_name": "t2",
      "language": "python",
      "name": "python3"
    },
    "language_info": {
      "name": "python",
      "version": "3.13.0"
    },
    "colab": {
      "provenance": []
    }
  },
  "nbformat": 4,
  "nbformat_minor": 0
}