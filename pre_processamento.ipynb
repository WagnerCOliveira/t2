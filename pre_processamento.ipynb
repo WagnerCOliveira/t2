{
 "cells": [
  {
   "cell_type": "code",
   "execution_count": 1,
   "metadata": {
    "colab": {
     "base_uri": "https://localhost:8080/"
    },
    "executionInfo": {
     "elapsed": 1027,
     "status": "ok",
     "timestamp": 1735641989121,
     "user": {
      "displayName": "WAGNER DA COSTA OLIVEIRA",
      "userId": "15827076417170349698"
     },
     "user_tz": 180
    },
    "id": "2bqngnAExG63",
    "outputId": "f7d4e8d7-96fa-439a-d4b4-fbf122dde4ff"
   },
   "outputs": [
    {
     "name": "stdout",
     "output_type": "stream",
     "text": [
      "Arquivo salvo com sucesso!\n"
     ]
    }
   ],
   "source": [
    "import pandas as pd\n",
    "import numpy as np\n",
    "import matplotlib as mt\n",
    "import os\n",
    "\n",
    "#1.1 Carregar o arquivo csv\n",
    "berkeley = pd.read_csv(\"https://waf.cs.illinois.edu/discovery/berkeley.csv\")\n",
    "\n",
    "berkeley.to_csv(\"./berkeley.csv\", index=False)\n",
    "print(\"Arquivo salvo com sucesso!\")"
   ]
  },
  {
   "cell_type": "code",
   "execution_count": 2,
   "metadata": {
    "colab": {
     "base_uri": "https://localhost:8080/",
     "height": 206
    },
    "executionInfo": {
     "elapsed": 28,
     "status": "ok",
     "timestamp": 1735641989121,
     "user": {
      "displayName": "WAGNER DA COSTA OLIVEIRA",
      "userId": "15827076417170349698"
     },
     "user_tz": 180
    },
    "id": "vrUjkoJfxG7D",
    "outputId": "85a29e7e-50fe-4c84-ada7-c99ef1360899"
   },
   "outputs": [
    {
     "data": {
      "text/html": [
       "<div>\n",
       "<style scoped>\n",
       "    .dataframe tbody tr th:only-of-type {\n",
       "        vertical-align: middle;\n",
       "    }\n",
       "\n",
       "    .dataframe tbody tr th {\n",
       "        vertical-align: top;\n",
       "    }\n",
       "\n",
       "    .dataframe thead th {\n",
       "        text-align: right;\n",
       "    }\n",
       "</style>\n",
       "<table border=\"1\" class=\"dataframe\">\n",
       "  <thead>\n",
       "    <tr style=\"text-align: right;\">\n",
       "      <th></th>\n",
       "      <th>Year</th>\n",
       "      <th>Major</th>\n",
       "      <th>Gender</th>\n",
       "      <th>Admission</th>\n",
       "    </tr>\n",
       "  </thead>\n",
       "  <tbody>\n",
       "    <tr>\n",
       "      <th>0</th>\n",
       "      <td>1973</td>\n",
       "      <td>C</td>\n",
       "      <td>F</td>\n",
       "      <td>Rejected</td>\n",
       "    </tr>\n",
       "    <tr>\n",
       "      <th>1</th>\n",
       "      <td>1973</td>\n",
       "      <td>B</td>\n",
       "      <td>M</td>\n",
       "      <td>Accepted</td>\n",
       "    </tr>\n",
       "    <tr>\n",
       "      <th>2</th>\n",
       "      <td>1973</td>\n",
       "      <td>Other</td>\n",
       "      <td>F</td>\n",
       "      <td>Accepted</td>\n",
       "    </tr>\n",
       "    <tr>\n",
       "      <th>3</th>\n",
       "      <td>1973</td>\n",
       "      <td>Other</td>\n",
       "      <td>M</td>\n",
       "      <td>Accepted</td>\n",
       "    </tr>\n",
       "    <tr>\n",
       "      <th>4</th>\n",
       "      <td>1973</td>\n",
       "      <td>Other</td>\n",
       "      <td>M</td>\n",
       "      <td>Rejected</td>\n",
       "    </tr>\n",
       "  </tbody>\n",
       "</table>\n",
       "</div>"
      ],
      "text/plain": [
       "   Year  Major Gender Admission\n",
       "0  1973      C      F  Rejected\n",
       "1  1973      B      M  Accepted\n",
       "2  1973  Other      F  Accepted\n",
       "3  1973  Other      M  Accepted\n",
       "4  1973  Other      M  Rejected"
      ]
     },
     "execution_count": 2,
     "metadata": {},
     "output_type": "execute_result"
    }
   ],
   "source": [
    "#Exibir as cinco primeiras linhas\n",
    "berkeley.head()"
   ]
  },
  {
   "cell_type": "code",
   "execution_count": 3,
   "metadata": {
    "colab": {
     "base_uri": "https://localhost:8080/"
    },
    "executionInfo": {
     "elapsed": 27,
     "status": "ok",
     "timestamp": 1735641989121,
     "user": {
      "displayName": "WAGNER DA COSTA OLIVEIRA",
      "userId": "15827076417170349698"
     },
     "user_tz": 180
    },
    "id": "yA-2Oi2XxG7F",
    "outputId": "16675e3e-b764-442c-a0ae-e8a8add196e4"
   },
   "outputs": [
    {
     "name": "stdout",
     "output_type": "stream",
     "text": [
      "<class 'pandas.core.frame.DataFrame'>\n",
      "RangeIndex: 12763 entries, 0 to 12762\n",
      "Data columns (total 4 columns):\n",
      " #   Column     Non-Null Count  Dtype \n",
      "---  ------     --------------  ----- \n",
      " 0   Year       12763 non-null  int64 \n",
      " 1   Major      12763 non-null  object\n",
      " 2   Gender     12763 non-null  object\n",
      " 3   Admission  12763 non-null  object\n",
      "dtypes: int64(1), object(3)\n",
      "memory usage: 399.0+ KB\n"
     ]
    }
   ],
   "source": [
    "#1.2 Exibir as informações gerais do dataset\n",
    "#1.3 Aqui já podemos determinar que não há dados nulos\n",
    "#1.4 Aqui podemos verificar se há inconsistências nos dados\n",
    "#1.5 Não houve inconsistências\n",
    "berkeley.info()"
   ]
  },
  {
   "cell_type": "code",
   "execution_count": 4,
   "metadata": {
    "colab": {
     "base_uri": "https://localhost:8080/",
     "height": 84
    },
    "executionInfo": {
     "elapsed": 25,
     "status": "ok",
     "timestamp": 1735641989121,
     "user": {
      "displayName": "WAGNER DA COSTA OLIVEIRA",
      "userId": "15827076417170349698"
     },
     "user_tz": 180
    },
    "id": "dGLnT36cxG7H",
    "outputId": "1cdeb42b-5277-40c9-ec30-639f2e3092cf"
   },
   "outputs": [
    {
     "data": {
      "text/plain": [
       "Series([], dtype: int64)"
      ]
     },
     "execution_count": 4,
     "metadata": {},
     "output_type": "execute_result"
    }
   ],
   "source": [
    "#1.3 Confirmar a ausência de valores ausentes por coluna\n",
    "valores_ausentes = berkeley.isnull().sum()\n",
    "valores_ausentes[valores_ausentes > 0]"
   ]
  },
  {
   "cell_type": "code",
   "execution_count": 5,
   "metadata": {
    "colab": {
     "base_uri": "https://localhost:8080/",
     "height": 206
    },
    "executionInfo": {
     "elapsed": 25,
     "status": "ok",
     "timestamp": 1735641989122,
     "user": {
      "displayName": "WAGNER DA COSTA OLIVEIRA",
      "userId": "15827076417170349698"
     },
     "user_tz": 180
    },
    "id": "lR3oUGAmxG7J",
    "outputId": "03720c67-b17d-438b-e26b-c0be1d8bfb35"
   },
   "outputs": [
    {
     "data": {
      "text/html": [
       "<div>\n",
       "<style scoped>\n",
       "    .dataframe tbody tr th:only-of-type {\n",
       "        vertical-align: middle;\n",
       "    }\n",
       "\n",
       "    .dataframe tbody tr th {\n",
       "        vertical-align: top;\n",
       "    }\n",
       "\n",
       "    .dataframe thead th {\n",
       "        text-align: right;\n",
       "    }\n",
       "</style>\n",
       "<table border=\"1\" class=\"dataframe\">\n",
       "  <thead>\n",
       "    <tr style=\"text-align: right;\">\n",
       "      <th></th>\n",
       "      <th>YEAR</th>\n",
       "      <th>DEPARTAMENTO</th>\n",
       "      <th>GENERO</th>\n",
       "      <th>ADMISSAO</th>\n",
       "    </tr>\n",
       "  </thead>\n",
       "  <tbody>\n",
       "    <tr>\n",
       "      <th>0</th>\n",
       "      <td>1973</td>\n",
       "      <td>C</td>\n",
       "      <td>F</td>\n",
       "      <td>Rejected</td>\n",
       "    </tr>\n",
       "    <tr>\n",
       "      <th>1</th>\n",
       "      <td>1973</td>\n",
       "      <td>B</td>\n",
       "      <td>M</td>\n",
       "      <td>Accepted</td>\n",
       "    </tr>\n",
       "    <tr>\n",
       "      <th>2</th>\n",
       "      <td>1973</td>\n",
       "      <td>Other</td>\n",
       "      <td>F</td>\n",
       "      <td>Accepted</td>\n",
       "    </tr>\n",
       "    <tr>\n",
       "      <th>3</th>\n",
       "      <td>1973</td>\n",
       "      <td>Other</td>\n",
       "      <td>M</td>\n",
       "      <td>Accepted</td>\n",
       "    </tr>\n",
       "    <tr>\n",
       "      <th>4</th>\n",
       "      <td>1973</td>\n",
       "      <td>Other</td>\n",
       "      <td>M</td>\n",
       "      <td>Rejected</td>\n",
       "    </tr>\n",
       "  </tbody>\n",
       "</table>\n",
       "</div>"
      ],
      "text/plain": [
       "   YEAR DEPARTAMENTO GENERO  ADMISSAO\n",
       "0  1973            C      F  Rejected\n",
       "1  1973            B      M  Accepted\n",
       "2  1973        Other      F  Accepted\n",
       "3  1973        Other      M  Accepted\n",
       "4  1973        Other      M  Rejected"
      ]
     },
     "execution_count": 5,
     "metadata": {},
     "output_type": "execute_result"
    }
   ],
   "source": [
    "# Converter os nomes das colunas para letras maiúsculas\n",
    "berkeley.columns = berkeley.columns.str.upper()\n",
    "\n",
    "# Renomear as colunas\n",
    "berkeley.rename(columns={\n",
    "    \"MAJOR\": \"DEPARTAMENTO\",\n",
    "    \"GENDER\": \"GENERO\",\n",
    "    \"ADMISSION\": \"ADMISSAO\"\n",
    "}, inplace=True)\n",
    "\n",
    "# Exibir o dataset\n",
    "berkeley.head()"
   ]
  },
  {
   "cell_type": "code",
   "execution_count": 6,
   "metadata": {
    "colab": {
     "base_uri": "https://localhost:8080/"
    },
    "executionInfo": {
     "elapsed": 24,
     "status": "ok",
     "timestamp": 1735641989122,
     "user": {
      "displayName": "WAGNER DA COSTA OLIVEIRA",
      "userId": "15827076417170349698"
     },
     "user_tz": 180
    },
    "id": "T4Q6LoJCxG7K",
    "outputId": "91bcaed9-dca5-4ea3-84e7-967a156e9c27"
   },
   "outputs": [
    {
     "name": "stdout",
     "output_type": "stream",
     "text": [
      "\n",
      "Dataset atualizado com a nova variável 'CONCORRENCIA':\n",
      "   YEAR DEPARTAMENTO GENERO  ADMISSAO  CONCORRENCIA\n",
      "0  1973            C      F  Rejected          2.86\n",
      "1  1973            B      M  Accepted          1.58\n",
      "2  1973        Other      F  Accepted          2.50\n",
      "3  1973        Other      M  Accepted          2.50\n",
      "4  1973        Other      M  Rejected          2.50\n"
     ]
    }
   ],
   "source": [
    "#1.6 Cria novas variáveis derivadas das existêntes\n",
    "# Foi criado a concorrência sofrida pelo candidato ((Accepted/(Accepted + Rejected))\n",
    "# Verificar se as colunas necessárias estão presentes\n",
    "if 'ADMISSAO' in berkeley.columns:\n",
    "    # Criar uma variável para o total de inscritos por departamento\n",
    "    total_inscritos = berkeley.groupby('DEPARTAMENTO').count()\n",
    "\n",
    "    # Calcular o número de \"Accepted\" por departamento\n",
    "    accepted_count = berkeley[berkeley['ADMISSAO'] == 'Accepted'].groupby('DEPARTAMENTO')['ADMISSAO'].count()\n",
    "\n",
    "    # Calcular o número de \"Rejected\" por departamento\n",
    "    rejected_count = berkeley[berkeley['ADMISSAO'] == 'Rejected'].groupby('DEPARTAMENTO')['ADMISSAO'].count()\n",
    "\n",
    "    # Criar uma nova variável que calcula a concorrência\n",
    "    concorrencia = (accepted_count + rejected_count) / accepted_count\n",
    "\n",
    "    # Criar uma nova coluna no dataset com base no departamento do candidato\n",
    "    berkeley['CONCORRENCIA'] = berkeley['DEPARTAMENTO'].map(concorrencia).round(2)\n",
    "\n",
    "    # Exibir as cinco primeiras linhas do dataset atualizado\n",
    "    print(\"\\nDataset atualizado com a nova variável 'CONCORRENCIA':\")\n",
    "    print(berkeley.head())\n",
    "else:\n",
    "    print(\"A coluna 'ADMISSAO' não está presente no dataset.\")"
   ]
  },
  {
   "cell_type": "code",
   "execution_count": 7,
   "metadata": {
    "colab": {
     "base_uri": "https://localhost:8080/"
    },
    "executionInfo": {
     "elapsed": 20,
     "status": "ok",
     "timestamp": 1735641989122,
     "user": {
      "displayName": "WAGNER DA COSTA OLIVEIRA",
      "userId": "15827076417170349698"
     },
     "user_tz": 180
    },
    "id": "tuukFB-gxG7N",
    "outputId": "12394c22-19fa-40f0-fe4f-6f75ce2f1733"
   },
   "outputs": [
    {
     "name": "stdout",
     "output_type": "stream",
     "text": [
      "\n",
      "Coluna 'ADMISSAO' convertida para tipo 'category'.\n",
      "<class 'pandas.core.frame.DataFrame'>\n",
      "RangeIndex: 12763 entries, 0 to 12762\n",
      "Data columns (total 5 columns):\n",
      " #   Column        Non-Null Count  Dtype   \n",
      "---  ------        --------------  -----   \n",
      " 0   YEAR          12763 non-null  int64   \n",
      " 1   DEPARTAMENTO  12763 non-null  object  \n",
      " 2   GENERO        12763 non-null  object  \n",
      " 3   ADMISSAO      12763 non-null  category\n",
      " 4   CONCORRENCIA  12763 non-null  float64 \n",
      "dtypes: category(1), float64(1), int64(1), object(2)\n",
      "memory usage: 411.6+ KB\n"
     ]
    }
   ],
   "source": [
    "#1.7 Converter tipos de dados\n",
    "berkeley['ADMISSAO'] = berkeley['ADMISSAO'].astype('category')\n",
    "print(\"\\nColuna 'ADMISSAO' convertida para tipo 'category'.\")\n",
    "\n",
    "# Exibir as informações gerais do dataset após conversão do tipo\n",
    "berkeley.info()"
   ]
  },
  {
   "cell_type": "code",
   "execution_count": 8,
   "metadata": {
    "colab": {
     "base_uri": "https://localhost:8080/"
    },
    "executionInfo": {
     "elapsed": 17,
     "status": "ok",
     "timestamp": 1735641989122,
     "user": {
      "displayName": "WAGNER DA COSTA OLIVEIRA",
      "userId": "15827076417170349698"
     },
     "user_tz": 180
    },
    "id": "dWj3BdVXxG7Q",
    "outputId": "7d2df161-ed40-48cb-be7d-142a0789102e"
   },
   "outputs": [
    {
     "name": "stdout",
     "output_type": "stream",
     "text": [
      "<class 'pandas.core.frame.DataFrame'>\n",
      "Index: 4839 entries, 0 to 12759\n",
      "Data columns (total 5 columns):\n",
      " #   Column        Non-Null Count  Dtype   \n",
      "---  ------        --------------  -----   \n",
      " 0   YEAR          4839 non-null   int64   \n",
      " 1   DEPARTAMENTO  4839 non-null   object  \n",
      " 2   GENERO        4839 non-null   object  \n",
      " 3   ADMISSAO      4839 non-null   category\n",
      " 4   CONCORRENCIA  4839 non-null   float64 \n",
      "dtypes: category(1), float64(1), int64(1), object(2)\n",
      "memory usage: 193.9+ KB\n"
     ]
    }
   ],
   "source": [
    "berkeley = berkeley.loc[berkeley['DEPARTAMENTO'] != 'Other']\n",
    "\n",
    "berkeley.info()"
   ]
  },
  {
   "cell_type": "code",
   "execution_count": 9,
   "metadata": {
    "colab": {
     "base_uri": "https://localhost:8080/",
     "height": 206
    },
    "executionInfo": {
     "elapsed": 14,
     "status": "ok",
     "timestamp": 1735641989122,
     "user": {
      "displayName": "WAGNER DA COSTA OLIVEIRA",
      "userId": "15827076417170349698"
     },
     "user_tz": 180
    },
    "id": "8WXYHI_2xG7R",
    "outputId": "fa7cf820-63d6-41fc-eefe-8e0a2917e045"
   },
   "outputs": [
    {
     "data": {
      "text/html": [
       "<div>\n",
       "<style scoped>\n",
       "    .dataframe tbody tr th:only-of-type {\n",
       "        vertical-align: middle;\n",
       "    }\n",
       "\n",
       "    .dataframe tbody tr th {\n",
       "        vertical-align: top;\n",
       "    }\n",
       "\n",
       "    .dataframe thead th {\n",
       "        text-align: right;\n",
       "    }\n",
       "</style>\n",
       "<table border=\"1\" class=\"dataframe\">\n",
       "  <thead>\n",
       "    <tr style=\"text-align: right;\">\n",
       "      <th></th>\n",
       "      <th>YEAR</th>\n",
       "      <th>DEPARTAMENTO</th>\n",
       "      <th>GENERO</th>\n",
       "      <th>ADMISSAO</th>\n",
       "      <th>CONCORRENCIA</th>\n",
       "    </tr>\n",
       "  </thead>\n",
       "  <tbody>\n",
       "    <tr>\n",
       "      <th>0</th>\n",
       "      <td>1973</td>\n",
       "      <td>C</td>\n",
       "      <td>F</td>\n",
       "      <td>Rejected</td>\n",
       "      <td>2.86</td>\n",
       "    </tr>\n",
       "    <tr>\n",
       "      <th>1</th>\n",
       "      <td>1973</td>\n",
       "      <td>B</td>\n",
       "      <td>M</td>\n",
       "      <td>Accepted</td>\n",
       "      <td>1.58</td>\n",
       "    </tr>\n",
       "    <tr>\n",
       "      <th>6</th>\n",
       "      <td>1973</td>\n",
       "      <td>F</td>\n",
       "      <td>F</td>\n",
       "      <td>Accepted</td>\n",
       "      <td>15.19</td>\n",
       "    </tr>\n",
       "    <tr>\n",
       "      <th>9</th>\n",
       "      <td>1973</td>\n",
       "      <td>A</td>\n",
       "      <td>M</td>\n",
       "      <td>Accepted</td>\n",
       "      <td>1.36</td>\n",
       "    </tr>\n",
       "    <tr>\n",
       "      <th>11</th>\n",
       "      <td>1973</td>\n",
       "      <td>B</td>\n",
       "      <td>M</td>\n",
       "      <td>Accepted</td>\n",
       "      <td>1.58</td>\n",
       "    </tr>\n",
       "  </tbody>\n",
       "</table>\n",
       "</div>"
      ],
      "text/plain": [
       "    YEAR DEPARTAMENTO GENERO  ADMISSAO  CONCORRENCIA\n",
       "0   1973            C      F  Rejected          2.86\n",
       "1   1973            B      M  Accepted          1.58\n",
       "6   1973            F      F  Accepted         15.19\n",
       "9   1973            A      M  Accepted          1.36\n",
       "11  1973            B      M  Accepted          1.58"
      ]
     },
     "execution_count": 9,
     "metadata": {},
     "output_type": "execute_result"
    }
   ],
   "source": [
    "berkeley.head()"
   ]
  },
  {
   "cell_type": "code",
   "execution_count": 10,
   "metadata": {
    "colab": {
     "base_uri": "https://localhost:8080/"
    },
    "executionInfo": {
     "elapsed": 13,
     "status": "ok",
     "timestamp": 1735641989122,
     "user": {
      "displayName": "WAGNER DA COSTA OLIVEIRA",
      "userId": "15827076417170349698"
     },
     "user_tz": 180
    },
    "id": "NTjGbe2ExG7T",
    "outputId": "648b65c2-a811-4705-bf5b-4085c5743415"
   },
   "outputs": [
    {
     "name": "stdout",
     "output_type": "stream",
     "text": [
      "Arquivo salvo em: ./berkeley_preprocessado.csv\n"
     ]
    }
   ],
   "source": [
    "# Função para salvar o DataFrame como CSV\n",
    "def exportar_csv(berkeley, nome_arquivo):\n",
    "    # Criar a pasta, se necessário\n",
    "    foldername = os.path.dirname(nome_arquivo)\n",
    "    if foldername and not os.path.exists(foldername):\n",
    "        os.makedirs(foldername)\n",
    "\n",
    "    # Exportar o CSV\n",
    "    berkeley.to_csv(nome_arquivo, sep=',', index=False)\n",
    "    print(f\"Arquivo salvo em: {nome_arquivo}\")\n",
    "\n",
    "# Salvar o dataset pré-processado\n",
    "exportar_csv(berkeley, \"./berkeley_preprocessado.csv\")"
   ]
  }
 ],
 "metadata": {
  "colab": {
   "provenance": []
  },
  "kernelspec": {
   "display_name": "t2",
   "language": "python",
   "name": "python3"
  },
  "language_info": {
   "codemirror_mode": {
    "name": "ipython",
    "version": 3
   },
   "file_extension": ".py",
   "mimetype": "text/x-python",
   "name": "python",
   "nbconvert_exporter": "python",
   "pygments_lexer": "ipython3",
   "version": "3.13.0"
  }
 },
 "nbformat": 4,
 "nbformat_minor": 0
}
